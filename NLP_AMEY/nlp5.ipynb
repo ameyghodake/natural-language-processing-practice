{
  "nbformat": 4,
  "nbformat_minor": 0,
  "metadata": {
    "colab": {
      "provenance": [],
      "collapsed_sections": []
    },
    "kernelspec": {
      "name": "python3",
      "display_name": "Python 3"
    },
    "language_info": {
      "name": "python"
    }
  },
  "cells": [
    {
      "cell_type": "code",
      "execution_count": 81,
      "metadata": {
        "colab": {
          "base_uri": "https://localhost:8080/"
        },
        "id": "jFgfvcCvjqfe",
        "outputId": "2d66117e-0ac1-484d-ecdc-a70760dd8112"
      },
      "outputs": [
        {
          "output_type": "stream",
          "name": "stdout",
          "text": [
            "Drive already mounted at /content/drive; to attempt to forcibly remount, call drive.mount(\"/content/drive\", force_remount=True).\n"
          ]
        }
      ],
      "source": [
        "from google.colab import drive\n",
        "drive.mount('/content/drive')"
      ]
    },
    {
      "cell_type": "code",
      "source": [
        "import nltk\n",
        "import numpy as np\n",
        "import pandas as pd\n",
        "import re\n",
        "from sklearn.model_selection import train_test_split\n",
        "import string"
      ],
      "metadata": {
        "id": "9JIOao9ekBKf"
      },
      "execution_count": 82,
      "outputs": []
    },
    {
      "cell_type": "markdown",
      "source": [
        "##Data Preperation (Cleaning)"
      ],
      "metadata": {
        "id": "XHIvEFapIGyp"
      }
    },
    {
      "cell_type": "code",
      "source": [
        "nltk.download('stopwords')\n",
        "stopwords= nltk.corpus.stopwords.words('english')"
      ],
      "metadata": {
        "colab": {
          "base_uri": "https://localhost:8080/"
        },
        "id": "OJN_e3wCkZVy",
        "outputId": "c67713f9-194c-48ab-a0a5-51f971c3ae9d"
      },
      "execution_count": 83,
      "outputs": [
        {
          "output_type": "stream",
          "name": "stderr",
          "text": [
            "[nltk_data] Downloading package stopwords to /root/nltk_data...\n",
            "[nltk_data]   Package stopwords is already up-to-date!\n"
          ]
        }
      ]
    },
    {
      "cell_type": "code",
      "source": [
        "msg= pd.read_csv('/content/spam.csv',encoding ='latin-1')\n",
        "msg= msg.drop(labels= ['Unnamed: 2','Unnamed: 3','Unnamed: 4'], axis=1)\n",
        "msg.columns= ['label', 'text']\n",
        "labels= np.where(msg['label']=='spam',1,0)\n",
        "msg.head()"
      ],
      "metadata": {
        "colab": {
          "base_uri": "https://localhost:8080/",
          "height": 206
        },
        "id": "oZyHWCLAkhcf",
        "outputId": "38ca5bb8-b70f-4a24-cfc9-f8d85287beec"
      },
      "execution_count": 84,
      "outputs": [
        {
          "output_type": "execute_result",
          "data": {
            "text/plain": [
              "  label                                               text\n",
              "0   ham  Go until jurong point, crazy.. Available only ...\n",
              "1   ham                      Ok lar... Joking wif u oni...\n",
              "2  spam  Free entry in 2 a wkly comp to win FA Cup fina...\n",
              "3   ham  U dun say so early hor... U c already then say...\n",
              "4   ham  Nah I don't think he goes to usf, he lives aro..."
            ],
            "text/html": [
              "\n",
              "  <div id=\"df-675248b0-7d1c-4069-8ec3-818205785b95\">\n",
              "    <div class=\"colab-df-container\">\n",
              "      <div>\n",
              "<style scoped>\n",
              "    .dataframe tbody tr th:only-of-type {\n",
              "        vertical-align: middle;\n",
              "    }\n",
              "\n",
              "    .dataframe tbody tr th {\n",
              "        vertical-align: top;\n",
              "    }\n",
              "\n",
              "    .dataframe thead th {\n",
              "        text-align: right;\n",
              "    }\n",
              "</style>\n",
              "<table border=\"1\" class=\"dataframe\">\n",
              "  <thead>\n",
              "    <tr style=\"text-align: right;\">\n",
              "      <th></th>\n",
              "      <th>label</th>\n",
              "      <th>text</th>\n",
              "    </tr>\n",
              "  </thead>\n",
              "  <tbody>\n",
              "    <tr>\n",
              "      <th>0</th>\n",
              "      <td>ham</td>\n",
              "      <td>Go until jurong point, crazy.. Available only ...</td>\n",
              "    </tr>\n",
              "    <tr>\n",
              "      <th>1</th>\n",
              "      <td>ham</td>\n",
              "      <td>Ok lar... Joking wif u oni...</td>\n",
              "    </tr>\n",
              "    <tr>\n",
              "      <th>2</th>\n",
              "      <td>spam</td>\n",
              "      <td>Free entry in 2 a wkly comp to win FA Cup fina...</td>\n",
              "    </tr>\n",
              "    <tr>\n",
              "      <th>3</th>\n",
              "      <td>ham</td>\n",
              "      <td>U dun say so early hor... U c already then say...</td>\n",
              "    </tr>\n",
              "    <tr>\n",
              "      <th>4</th>\n",
              "      <td>ham</td>\n",
              "      <td>Nah I don't think he goes to usf, he lives aro...</td>\n",
              "    </tr>\n",
              "  </tbody>\n",
              "</table>\n",
              "</div>\n",
              "      <button class=\"colab-df-convert\" onclick=\"convertToInteractive('df-675248b0-7d1c-4069-8ec3-818205785b95')\"\n",
              "              title=\"Convert this dataframe to an interactive table.\"\n",
              "              style=\"display:none;\">\n",
              "        \n",
              "  <svg xmlns=\"http://www.w3.org/2000/svg\" height=\"24px\"viewBox=\"0 0 24 24\"\n",
              "       width=\"24px\">\n",
              "    <path d=\"M0 0h24v24H0V0z\" fill=\"none\"/>\n",
              "    <path d=\"M18.56 5.44l.94 2.06.94-2.06 2.06-.94-2.06-.94-.94-2.06-.94 2.06-2.06.94zm-11 1L8.5 8.5l.94-2.06 2.06-.94-2.06-.94L8.5 2.5l-.94 2.06-2.06.94zm10 10l.94 2.06.94-2.06 2.06-.94-2.06-.94-.94-2.06-.94 2.06-2.06.94z\"/><path d=\"M17.41 7.96l-1.37-1.37c-.4-.4-.92-.59-1.43-.59-.52 0-1.04.2-1.43.59L10.3 9.45l-7.72 7.72c-.78.78-.78 2.05 0 2.83L4 21.41c.39.39.9.59 1.41.59.51 0 1.02-.2 1.41-.59l7.78-7.78 2.81-2.81c.8-.78.8-2.07 0-2.86zM5.41 20L4 18.59l7.72-7.72 1.47 1.35L5.41 20z\"/>\n",
              "  </svg>\n",
              "      </button>\n",
              "      \n",
              "  <style>\n",
              "    .colab-df-container {\n",
              "      display:flex;\n",
              "      flex-wrap:wrap;\n",
              "      gap: 12px;\n",
              "    }\n",
              "\n",
              "    .colab-df-convert {\n",
              "      background-color: #E8F0FE;\n",
              "      border: none;\n",
              "      border-radius: 50%;\n",
              "      cursor: pointer;\n",
              "      display: none;\n",
              "      fill: #1967D2;\n",
              "      height: 32px;\n",
              "      padding: 0 0 0 0;\n",
              "      width: 32px;\n",
              "    }\n",
              "\n",
              "    .colab-df-convert:hover {\n",
              "      background-color: #E2EBFA;\n",
              "      box-shadow: 0px 1px 2px rgba(60, 64, 67, 0.3), 0px 1px 3px 1px rgba(60, 64, 67, 0.15);\n",
              "      fill: #174EA6;\n",
              "    }\n",
              "\n",
              "    [theme=dark] .colab-df-convert {\n",
              "      background-color: #3B4455;\n",
              "      fill: #D2E3FC;\n",
              "    }\n",
              "\n",
              "    [theme=dark] .colab-df-convert:hover {\n",
              "      background-color: #434B5C;\n",
              "      box-shadow: 0px 1px 3px 1px rgba(0, 0, 0, 0.15);\n",
              "      filter: drop-shadow(0px 1px 2px rgba(0, 0, 0, 0.3));\n",
              "      fill: #FFFFFF;\n",
              "    }\n",
              "  </style>\n",
              "\n",
              "      <script>\n",
              "        const buttonEl =\n",
              "          document.querySelector('#df-675248b0-7d1c-4069-8ec3-818205785b95 button.colab-df-convert');\n",
              "        buttonEl.style.display =\n",
              "          google.colab.kernel.accessAllowed ? 'block' : 'none';\n",
              "\n",
              "        async function convertToInteractive(key) {\n",
              "          const element = document.querySelector('#df-675248b0-7d1c-4069-8ec3-818205785b95');\n",
              "          const dataTable =\n",
              "            await google.colab.kernel.invokeFunction('convertToInteractive',\n",
              "                                                     [key], {});\n",
              "          if (!dataTable) return;\n",
              "\n",
              "          const docLinkHtml = 'Like what you see? Visit the ' +\n",
              "            '<a target=\"_blank\" href=https://colab.research.google.com/notebooks/data_table.ipynb>data table notebook</a>'\n",
              "            + ' to learn more about interactive tables.';\n",
              "          element.innerHTML = '';\n",
              "          dataTable['output_type'] = 'display_data';\n",
              "          await google.colab.output.renderOutput(dataTable, element);\n",
              "          const docLink = document.createElement('div');\n",
              "          docLink.innerHTML = docLinkHtml;\n",
              "          element.appendChild(docLink);\n",
              "        }\n",
              "      </script>\n",
              "    </div>\n",
              "  </div>\n",
              "  "
            ]
          },
          "metadata": {},
          "execution_count": 84
        }
      ]
    },
    {
      "cell_type": "code",
      "source": [
        "def clean_text(text):\n",
        "  #Remove Punctuations\n",
        "  text= ''.join([word.lower() for word in text\n",
        "                  if word not in string.punctuation])\n",
        "  #Tokenize\n",
        "  tokens= re.split('\\W+', text)\n",
        "\n",
        "  #Remove Stopwords\n",
        "  text= [word for word in tokens if word not in stopwords]\n",
        "\n",
        "  return text"
      ],
      "metadata": {
        "id": "XVn84vGtlDjf"
      },
      "execution_count": 85,
      "outputs": []
    },
    {
      "cell_type": "code",
      "source": [
        "msg['clean_text'] = msg['text'].apply( lambda x: clean_text(x) ) \n",
        "msg.head()"
      ],
      "metadata": {
        "colab": {
          "base_uri": "https://localhost:8080/",
          "height": 206
        },
        "id": "Rs4TVXijlswE",
        "outputId": "43a80262-f89c-4a0c-8d57-5c05c14dd454"
      },
      "execution_count": 86,
      "outputs": [
        {
          "output_type": "execute_result",
          "data": {
            "text/plain": [
              "  label                                               text  \\\n",
              "0   ham  Go until jurong point, crazy.. Available only ...   \n",
              "1   ham                      Ok lar... Joking wif u oni...   \n",
              "2  spam  Free entry in 2 a wkly comp to win FA Cup fina...   \n",
              "3   ham  U dun say so early hor... U c already then say...   \n",
              "4   ham  Nah I don't think he goes to usf, he lives aro...   \n",
              "\n",
              "                                          clean_text  \n",
              "0  [go, jurong, point, crazy, available, bugis, n...  \n",
              "1                     [ok, lar, joking, wif, u, oni]  \n",
              "2  [free, entry, 2, wkly, comp, win, fa, cup, fin...  \n",
              "3      [u, dun, say, early, hor, u, c, already, say]  \n",
              "4  [nah, dont, think, goes, usf, lives, around, t...  "
            ],
            "text/html": [
              "\n",
              "  <div id=\"df-59c53826-905b-45f2-9cd9-080f5f2b669f\">\n",
              "    <div class=\"colab-df-container\">\n",
              "      <div>\n",
              "<style scoped>\n",
              "    .dataframe tbody tr th:only-of-type {\n",
              "        vertical-align: middle;\n",
              "    }\n",
              "\n",
              "    .dataframe tbody tr th {\n",
              "        vertical-align: top;\n",
              "    }\n",
              "\n",
              "    .dataframe thead th {\n",
              "        text-align: right;\n",
              "    }\n",
              "</style>\n",
              "<table border=\"1\" class=\"dataframe\">\n",
              "  <thead>\n",
              "    <tr style=\"text-align: right;\">\n",
              "      <th></th>\n",
              "      <th>label</th>\n",
              "      <th>text</th>\n",
              "      <th>clean_text</th>\n",
              "    </tr>\n",
              "  </thead>\n",
              "  <tbody>\n",
              "    <tr>\n",
              "      <th>0</th>\n",
              "      <td>ham</td>\n",
              "      <td>Go until jurong point, crazy.. Available only ...</td>\n",
              "      <td>[go, jurong, point, crazy, available, bugis, n...</td>\n",
              "    </tr>\n",
              "    <tr>\n",
              "      <th>1</th>\n",
              "      <td>ham</td>\n",
              "      <td>Ok lar... Joking wif u oni...</td>\n",
              "      <td>[ok, lar, joking, wif, u, oni]</td>\n",
              "    </tr>\n",
              "    <tr>\n",
              "      <th>2</th>\n",
              "      <td>spam</td>\n",
              "      <td>Free entry in 2 a wkly comp to win FA Cup fina...</td>\n",
              "      <td>[free, entry, 2, wkly, comp, win, fa, cup, fin...</td>\n",
              "    </tr>\n",
              "    <tr>\n",
              "      <th>3</th>\n",
              "      <td>ham</td>\n",
              "      <td>U dun say so early hor... U c already then say...</td>\n",
              "      <td>[u, dun, say, early, hor, u, c, already, say]</td>\n",
              "    </tr>\n",
              "    <tr>\n",
              "      <th>4</th>\n",
              "      <td>ham</td>\n",
              "      <td>Nah I don't think he goes to usf, he lives aro...</td>\n",
              "      <td>[nah, dont, think, goes, usf, lives, around, t...</td>\n",
              "    </tr>\n",
              "  </tbody>\n",
              "</table>\n",
              "</div>\n",
              "      <button class=\"colab-df-convert\" onclick=\"convertToInteractive('df-59c53826-905b-45f2-9cd9-080f5f2b669f')\"\n",
              "              title=\"Convert this dataframe to an interactive table.\"\n",
              "              style=\"display:none;\">\n",
              "        \n",
              "  <svg xmlns=\"http://www.w3.org/2000/svg\" height=\"24px\"viewBox=\"0 0 24 24\"\n",
              "       width=\"24px\">\n",
              "    <path d=\"M0 0h24v24H0V0z\" fill=\"none\"/>\n",
              "    <path d=\"M18.56 5.44l.94 2.06.94-2.06 2.06-.94-2.06-.94-.94-2.06-.94 2.06-2.06.94zm-11 1L8.5 8.5l.94-2.06 2.06-.94-2.06-.94L8.5 2.5l-.94 2.06-2.06.94zm10 10l.94 2.06.94-2.06 2.06-.94-2.06-.94-.94-2.06-.94 2.06-2.06.94z\"/><path d=\"M17.41 7.96l-1.37-1.37c-.4-.4-.92-.59-1.43-.59-.52 0-1.04.2-1.43.59L10.3 9.45l-7.72 7.72c-.78.78-.78 2.05 0 2.83L4 21.41c.39.39.9.59 1.41.59.51 0 1.02-.2 1.41-.59l7.78-7.78 2.81-2.81c.8-.78.8-2.07 0-2.86zM5.41 20L4 18.59l7.72-7.72 1.47 1.35L5.41 20z\"/>\n",
              "  </svg>\n",
              "      </button>\n",
              "      \n",
              "  <style>\n",
              "    .colab-df-container {\n",
              "      display:flex;\n",
              "      flex-wrap:wrap;\n",
              "      gap: 12px;\n",
              "    }\n",
              "\n",
              "    .colab-df-convert {\n",
              "      background-color: #E8F0FE;\n",
              "      border: none;\n",
              "      border-radius: 50%;\n",
              "      cursor: pointer;\n",
              "      display: none;\n",
              "      fill: #1967D2;\n",
              "      height: 32px;\n",
              "      padding: 0 0 0 0;\n",
              "      width: 32px;\n",
              "    }\n",
              "\n",
              "    .colab-df-convert:hover {\n",
              "      background-color: #E2EBFA;\n",
              "      box-shadow: 0px 1px 2px rgba(60, 64, 67, 0.3), 0px 1px 3px 1px rgba(60, 64, 67, 0.15);\n",
              "      fill: #174EA6;\n",
              "    }\n",
              "\n",
              "    [theme=dark] .colab-df-convert {\n",
              "      background-color: #3B4455;\n",
              "      fill: #D2E3FC;\n",
              "    }\n",
              "\n",
              "    [theme=dark] .colab-df-convert:hover {\n",
              "      background-color: #434B5C;\n",
              "      box-shadow: 0px 1px 3px 1px rgba(0, 0, 0, 0.15);\n",
              "      filter: drop-shadow(0px 1px 2px rgba(0, 0, 0, 0.3));\n",
              "      fill: #FFFFFF;\n",
              "    }\n",
              "  </style>\n",
              "\n",
              "      <script>\n",
              "        const buttonEl =\n",
              "          document.querySelector('#df-59c53826-905b-45f2-9cd9-080f5f2b669f button.colab-df-convert');\n",
              "        buttonEl.style.display =\n",
              "          google.colab.kernel.accessAllowed ? 'block' : 'none';\n",
              "\n",
              "        async function convertToInteractive(key) {\n",
              "          const element = document.querySelector('#df-59c53826-905b-45f2-9cd9-080f5f2b669f');\n",
              "          const dataTable =\n",
              "            await google.colab.kernel.invokeFunction('convertToInteractive',\n",
              "                                                     [key], {});\n",
              "          if (!dataTable) return;\n",
              "\n",
              "          const docLinkHtml = 'Like what you see? Visit the ' +\n",
              "            '<a target=\"_blank\" href=https://colab.research.google.com/notebooks/data_table.ipynb>data table notebook</a>'\n",
              "            + ' to learn more about interactive tables.';\n",
              "          element.innerHTML = '';\n",
              "          dataTable['output_type'] = 'display_data';\n",
              "          await google.colab.output.renderOutput(dataTable, element);\n",
              "          const docLink = document.createElement('div');\n",
              "          docLink.innerHTML = docLinkHtml;\n",
              "          element.appendChild(docLink);\n",
              "        }\n",
              "      </script>\n",
              "    </div>\n",
              "  </div>\n",
              "  "
            ]
          },
          "metadata": {},
          "execution_count": 86
        }
      ]
    },
    {
      "cell_type": "code",
      "source": [
        "x_train, x_test, y_train, y_test=  train_test_split( msg['clean_text'], msg['label'],\n",
        "                                                    test_size= 0.2)"
      ],
      "metadata": {
        "id": "ZJgiolBkl-py"
      },
      "execution_count": 87,
      "outputs": []
    },
    {
      "cell_type": "code",
      "source": [
        "x_train[:10]"
      ],
      "metadata": {
        "colab": {
          "base_uri": "https://localhost:8080/"
        },
        "id": "zxEiY4EAmrXw",
        "outputId": "30eaad60-3ad7-4bb3-9107-b287dea014b5"
      },
      "execution_count": 88,
      "outputs": [
        {
          "output_type": "execute_result",
          "data": {
            "text/plain": [
              "3446    [sitting, ard, nothing, lor, u, leh, busy, w, ...\n",
              "1137                                          [lol, busy]\n",
              "2087                                      [alright, babe]\n",
              "169      [yes, completely, formclark, also, utter, waste]\n",
              "4353    [important, information, 4, orange, user, 0789...\n",
              "4527    [u, missed, u, havent, 2, much, bit, bored, ho...\n",
              "4829    [word, checkmate, chess, comes, persian, phras...\n",
              "1650    [dont, file, bagi, work, called, mei, tell, fi...\n",
              "871     [going, goodno, problembut, still, need, littl...\n",
              "1032                         [happy, new, year, no1, man]\n",
              "Name: clean_text, dtype: object"
            ]
          },
          "metadata": {},
          "execution_count": 88
        }
      ]
    },
    {
      "cell_type": "code",
      "source": [
        "y_train[:10]"
      ],
      "metadata": {
        "colab": {
          "base_uri": "https://localhost:8080/"
        },
        "id": "K7nFk0E2mt7N",
        "outputId": "af0db694-d0b7-4edc-cba3-cdf488627c68"
      },
      "execution_count": 89,
      "outputs": [
        {
          "output_type": "execute_result",
          "data": {
            "text/plain": [
              "3446     ham\n",
              "1137     ham\n",
              "2087     ham\n",
              "169      ham\n",
              "4353    spam\n",
              "4527     ham\n",
              "4829     ham\n",
              "1650     ham\n",
              "871      ham\n",
              "1032     ham\n",
              "Name: label, dtype: object"
            ]
          },
          "metadata": {},
          "execution_count": 89
        }
      ]
    },
    {
      "cell_type": "markdown",
      "source": [
        "Convert data into csv files"
      ],
      "metadata": {
        "id": "kuxghdQLm5D-"
      }
    },
    {
      "cell_type": "code",
      "source": [
        "x_train.to_csv('/content/x_train.csv', index= False, header= True)\n",
        "x_test.to_csv('/content/x_test.csv', index= False, header= True)\n",
        "x_train.to_csv('/content/y_train.csv', index= False, header= True)\n",
        "x_test.to_csv('/content/y_test.csv', index= False, header= True)"
      ],
      "metadata": {
        "id": "6_7J6nwam1kc"
      },
      "execution_count": 90,
      "outputs": []
    },
    {
      "cell_type": "markdown",
      "source": [
        "## 1. Tfidf Model"
      ],
      "metadata": {
        "id": "Ar30OQyAoJyf"
      }
    },
    {
      "cell_type": "code",
      "source": [
        "from sklearn.feature_extraction.text import TfidfVectorizer\n",
        "x_train = pd.read_csv('/content/x_train.csv')\n",
        "x_test = pd.read_csv('/content/x_test.csv')\n",
        "x_train = pd.read_csv('/content/y_train.csv')\n",
        "x_test = pd.read_csv('/content/y_test.csv')"
      ],
      "metadata": {
        "id": "sURTdt01nbPx"
      },
      "execution_count": 91,
      "outputs": []
    },
    {
      "cell_type": "code",
      "source": [
        "x_train.head()"
      ],
      "metadata": {
        "colab": {
          "base_uri": "https://localhost:8080/",
          "height": 206
        },
        "id": "6aXxEYSyo2q-",
        "outputId": "1edead2d-d34a-4f48-bb98-f2974e5cdaf2"
      },
      "execution_count": 92,
      "outputs": [
        {
          "output_type": "execute_result",
          "data": {
            "text/plain": [
              "                                          clean_text\n",
              "0  ['sitting', 'ard', 'nothing', 'lor', 'u', 'leh...\n",
              "1                                    ['lol', 'busy']\n",
              "2                                ['alright', 'babe']\n",
              "3  ['yes', 'completely', 'formclark', 'also', 'ut...\n",
              "4  ['important', 'information', '4', 'orange', 'u..."
            ],
            "text/html": [
              "\n",
              "  <div id=\"df-201d7345-aea2-43ff-8107-04337470638c\">\n",
              "    <div class=\"colab-df-container\">\n",
              "      <div>\n",
              "<style scoped>\n",
              "    .dataframe tbody tr th:only-of-type {\n",
              "        vertical-align: middle;\n",
              "    }\n",
              "\n",
              "    .dataframe tbody tr th {\n",
              "        vertical-align: top;\n",
              "    }\n",
              "\n",
              "    .dataframe thead th {\n",
              "        text-align: right;\n",
              "    }\n",
              "</style>\n",
              "<table border=\"1\" class=\"dataframe\">\n",
              "  <thead>\n",
              "    <tr style=\"text-align: right;\">\n",
              "      <th></th>\n",
              "      <th>clean_text</th>\n",
              "    </tr>\n",
              "  </thead>\n",
              "  <tbody>\n",
              "    <tr>\n",
              "      <th>0</th>\n",
              "      <td>['sitting', 'ard', 'nothing', 'lor', 'u', 'leh...</td>\n",
              "    </tr>\n",
              "    <tr>\n",
              "      <th>1</th>\n",
              "      <td>['lol', 'busy']</td>\n",
              "    </tr>\n",
              "    <tr>\n",
              "      <th>2</th>\n",
              "      <td>['alright', 'babe']</td>\n",
              "    </tr>\n",
              "    <tr>\n",
              "      <th>3</th>\n",
              "      <td>['yes', 'completely', 'formclark', 'also', 'ut...</td>\n",
              "    </tr>\n",
              "    <tr>\n",
              "      <th>4</th>\n",
              "      <td>['important', 'information', '4', 'orange', 'u...</td>\n",
              "    </tr>\n",
              "  </tbody>\n",
              "</table>\n",
              "</div>\n",
              "      <button class=\"colab-df-convert\" onclick=\"convertToInteractive('df-201d7345-aea2-43ff-8107-04337470638c')\"\n",
              "              title=\"Convert this dataframe to an interactive table.\"\n",
              "              style=\"display:none;\">\n",
              "        \n",
              "  <svg xmlns=\"http://www.w3.org/2000/svg\" height=\"24px\"viewBox=\"0 0 24 24\"\n",
              "       width=\"24px\">\n",
              "    <path d=\"M0 0h24v24H0V0z\" fill=\"none\"/>\n",
              "    <path d=\"M18.56 5.44l.94 2.06.94-2.06 2.06-.94-2.06-.94-.94-2.06-.94 2.06-2.06.94zm-11 1L8.5 8.5l.94-2.06 2.06-.94-2.06-.94L8.5 2.5l-.94 2.06-2.06.94zm10 10l.94 2.06.94-2.06 2.06-.94-2.06-.94-.94-2.06-.94 2.06-2.06.94z\"/><path d=\"M17.41 7.96l-1.37-1.37c-.4-.4-.92-.59-1.43-.59-.52 0-1.04.2-1.43.59L10.3 9.45l-7.72 7.72c-.78.78-.78 2.05 0 2.83L4 21.41c.39.39.9.59 1.41.59.51 0 1.02-.2 1.41-.59l7.78-7.78 2.81-2.81c.8-.78.8-2.07 0-2.86zM5.41 20L4 18.59l7.72-7.72 1.47 1.35L5.41 20z\"/>\n",
              "  </svg>\n",
              "      </button>\n",
              "      \n",
              "  <style>\n",
              "    .colab-df-container {\n",
              "      display:flex;\n",
              "      flex-wrap:wrap;\n",
              "      gap: 12px;\n",
              "    }\n",
              "\n",
              "    .colab-df-convert {\n",
              "      background-color: #E8F0FE;\n",
              "      border: none;\n",
              "      border-radius: 50%;\n",
              "      cursor: pointer;\n",
              "      display: none;\n",
              "      fill: #1967D2;\n",
              "      height: 32px;\n",
              "      padding: 0 0 0 0;\n",
              "      width: 32px;\n",
              "    }\n",
              "\n",
              "    .colab-df-convert:hover {\n",
              "      background-color: #E2EBFA;\n",
              "      box-shadow: 0px 1px 2px rgba(60, 64, 67, 0.3), 0px 1px 3px 1px rgba(60, 64, 67, 0.15);\n",
              "      fill: #174EA6;\n",
              "    }\n",
              "\n",
              "    [theme=dark] .colab-df-convert {\n",
              "      background-color: #3B4455;\n",
              "      fill: #D2E3FC;\n",
              "    }\n",
              "\n",
              "    [theme=dark] .colab-df-convert:hover {\n",
              "      background-color: #434B5C;\n",
              "      box-shadow: 0px 1px 3px 1px rgba(0, 0, 0, 0.15);\n",
              "      filter: drop-shadow(0px 1px 2px rgba(0, 0, 0, 0.3));\n",
              "      fill: #FFFFFF;\n",
              "    }\n",
              "  </style>\n",
              "\n",
              "      <script>\n",
              "        const buttonEl =\n",
              "          document.querySelector('#df-201d7345-aea2-43ff-8107-04337470638c button.colab-df-convert');\n",
              "        buttonEl.style.display =\n",
              "          google.colab.kernel.accessAllowed ? 'block' : 'none';\n",
              "\n",
              "        async function convertToInteractive(key) {\n",
              "          const element = document.querySelector('#df-201d7345-aea2-43ff-8107-04337470638c');\n",
              "          const dataTable =\n",
              "            await google.colab.kernel.invokeFunction('convertToInteractive',\n",
              "                                                     [key], {});\n",
              "          if (!dataTable) return;\n",
              "\n",
              "          const docLinkHtml = 'Like what you see? Visit the ' +\n",
              "            '<a target=\"_blank\" href=https://colab.research.google.com/notebooks/data_table.ipynb>data table notebook</a>'\n",
              "            + ' to learn more about interactive tables.';\n",
              "          element.innerHTML = '';\n",
              "          dataTable['output_type'] = 'display_data';\n",
              "          await google.colab.output.renderOutput(dataTable, element);\n",
              "          const docLink = document.createElement('div');\n",
              "          docLink.innerHTML = docLinkHtml;\n",
              "          element.appendChild(docLink);\n",
              "        }\n",
              "      </script>\n",
              "    </div>\n",
              "  </div>\n",
              "  "
            ]
          },
          "metadata": {},
          "execution_count": 92
        }
      ]
    },
    {
      "cell_type": "code",
      "source": [
        "y_test.head()"
      ],
      "metadata": {
        "colab": {
          "base_uri": "https://localhost:8080/"
        },
        "id": "2jLFPKrHo4fX",
        "outputId": "eb9f95ff-4fb1-4a91-cd42-ad3020653c67"
      },
      "execution_count": 93,
      "outputs": [
        {
          "output_type": "execute_result",
          "data": {
            "text/plain": [
              "1521     ham\n",
              "4656    spam\n",
              "2579     ham\n",
              "4107     ham\n",
              "1        ham\n",
              "Name: label, dtype: object"
            ]
          },
          "metadata": {},
          "execution_count": 93
        }
      ]
    },
    {
      "cell_type": "markdown",
      "source": [
        "Create Tfidf Vectors"
      ],
      "metadata": {
        "id": "oDNxZlEpo-_D"
      }
    },
    {
      "cell_type": "code",
      "source": [
        "tfidf_vect= TfidfVectorizer()\n",
        "tfidf_vect.fit(x_train['clean_text'])\n",
        "\n",
        "x_train_vect= tfidf_vect.transform(x_train['clean_text'])\n",
        "x_test_vect= tfidf_vect.transform(x_test['clean_text'])"
      ],
      "metadata": {
        "id": "e59HjPuMo615"
      },
      "execution_count": 94,
      "outputs": []
    },
    {
      "cell_type": "markdown",
      "source": [
        "what words did the model learn"
      ],
      "metadata": {
        "id": "BdrZY4Cbp53t"
      }
    },
    {
      "cell_type": "code",
      "source": [
        "tfidf_vect.vocabulary_"
      ],
      "metadata": {
        "colab": {
          "base_uri": "https://localhost:8080/"
        },
        "id": "_YqhIwUBpuQb",
        "outputId": "47ed16c6-2ad8-4817-ac37-126dce7c6188"
      },
      "execution_count": 95,
      "outputs": [
        {
          "output_type": "execute_result",
          "data": {
            "text/plain": [
              "{'sitting': 6539,\n",
              " 'ard': 1092,\n",
              " 'nothing': 5113,\n",
              " 'lor': 4429,\n",
              " 'leh': 4289,\n",
              " 'busy': 1623,\n",
              " 'work': 7993,\n",
              " 'lol': 4410,\n",
              " 'alright': 969,\n",
              " 'babe': 1228,\n",
              " 'yes': 8150,\n",
              " 'completely': 2023,\n",
              " 'formclark': 3079,\n",
              " 'also': 973,\n",
              " 'utter': 7624,\n",
              " 'waste': 7792,\n",
              " 'important': 3793,\n",
              " 'information': 3840,\n",
              " 'orange': 5275,\n",
              " 'user': 7611,\n",
              " '0789xxxxxxx': 38,\n",
              " 'today': 7320,\n",
              " 'lucky': 4488,\n",
              " 'day2find': 2284,\n",
              " 'log': 4400,\n",
              " 'onto': 5247,\n",
              " 'httpwwwurawinnercom': 3698,\n",
              " 'theres': 7212,\n",
              " 'fantastic': 2899,\n",
              " 'surprise': 7004,\n",
              " 'awaiting': 1207,\n",
              " 'missed': 4767,\n",
              " 'havent': 3502,\n",
              " 'much': 4895,\n",
              " 'bit': 1408,\n",
              " 'bored': 1481,\n",
              " 'holiday': 3620,\n",
              " 'want': 7776,\n",
              " 'go': 3288,\n",
              " 'bak': 1250,\n",
              " 'college': 1981,\n",
              " 'sad': 6214,\n",
              " 'isnt': 3923,\n",
              " 'itxx': 3945,\n",
              " 'word': 7988,\n",
              " 'checkmate': 1835,\n",
              " 'chess': 1852,\n",
              " 'comes': 1996,\n",
              " 'persian': 5462,\n",
              " 'phrase': 5500,\n",
              " 'shah': 6402,\n",
              " 'maat': 4521,\n",
              " 'means': 4647,\n",
              " 'king': 4133,\n",
              " 'dead': 2295,\n",
              " 'goodmorning': 3326,\n",
              " 'good': 3318,\n",
              " 'day': 2282,\n",
              " 'dont': 2526,\n",
              " 'file': 2962,\n",
              " 'bagi': 1247,\n",
              " 'called': 1671,\n",
              " 'mei': 4666,\n",
              " 'tell': 7131,\n",
              " 'find': 2975,\n",
              " 'anything': 1046,\n",
              " 'room': 6154,\n",
              " 'going': 3305,\n",
              " 'goodno': 3330,\n",
              " 'problembut': 5751,\n",
              " 'still': 6859,\n",
              " 'need': 4989,\n",
              " 'little': 4374,\n",
              " 'experience': 2837,\n",
              " 'understand': 7539,\n",
              " 'american': 982,\n",
              " 'customer': 2212,\n",
              " 'voice': 7714,\n",
              " 'happy': 3484,\n",
              " 'new': 5015,\n",
              " 'year': 8139,\n",
              " 'no1': 5062,\n",
              " 'man': 4568,\n",
              " 'usually': 7623,\n",
              " 'take': 7065,\n",
              " 'fifteen': 2954,\n",
              " 'fucking': 3160,\n",
              " 'minutes': 4755,\n",
              " 'respond': 6075,\n",
              " 'question': 5854,\n",
              " 'dunno': 2608,\n",
              " 'cos': 2104,\n",
              " 'late': 4243,\n",
              " 'reach': 5917,\n",
              " 'inside': 3861,\n",
              " 'already': 967,\n",
              " 'ate': 1158,\n",
              " 'spageddies': 6715,\n",
              " 'gals': 3193,\n",
              " 'laughing': 4253,\n",
              " 'get': 3248,\n",
              " 'garden': 3206,\n",
              " 'ready': 5926,\n",
              " 'summer': 6968,\n",
              " 'free': 3104,\n",
              " 'selection': 6341,\n",
              " 'bulbs': 1603,\n",
              " 'seeds': 6327,\n",
              " 'worth': 8014,\n",
              " '3350': 467,\n",
              " 'scotsman': 6290,\n",
              " 'saturday': 6257,\n",
              " 'stop': 6871,\n",
              " 'go2': 3289,\n",
              " 'notxtcouk': 5120,\n",
              " 'call': 1656,\n",
              " 'ah': 907,\n",
              " 'os': 5293,\n",
              " 'ubandu': 7507,\n",
              " 'run': 6197,\n",
              " 'without': 7953,\n",
              " 'installing': 3866,\n",
              " 'hard': 3485,\n",
              " 'diskyou': 2470,\n",
              " 'use': 7607,\n",
              " 'copy': 2095,\n",
              " 'files': 2963,\n",
              " 'system': 7047,\n",
              " 'give': 3272,\n",
              " 'repair': 6038,\n",
              " 'shop': 6454,\n",
              " 'pls': 5565,\n",
              " 'send': 6353,\n",
              " 'company': 2012,\n",
              " 'name': 4946,\n",
              " 'saibaba': 6218,\n",
              " 'colany': 1970,\n",
              " 'dear': 2302,\n",
              " 'relieved': 6010,\n",
              " 'westonzoyland': 7872,\n",
              " 'plan': 5538,\n",
              " 'end': 2701,\n",
              " 'urgent': 7595,\n",
              " 'please': 5558,\n",
              " '09061213237': 177,\n",
              " 'landline': 4222,\n",
              " '5000': 562,\n",
              " 'cash': 1745,\n",
              " 'await': 1206,\n",
              " 'collection': 1979,\n",
              " 'cs': 2180,\n",
              " 'sae': 6215,\n",
              " 'po': 5575,\n",
              " 'box': 1500,\n",
              " '177': 325,\n",
              " 'm227xy': 4513,\n",
              " '16': 322,\n",
              " 'coming': 2001,\n",
              " 'back': 1238,\n",
              " 'dinner': 2444,\n",
              " 'rite': 6134,\n",
              " 'dad': 2233,\n",
              " 'ask': 1139,\n",
              " 'confirm': 2045,\n",
              " 'wif': 7911,\n",
              " 'sorry': 6689,\n",
              " 'vikky': 7689,\n",
              " 'im': 3779,\n",
              " 'watching': 7799,\n",
              " 'olave': 5224,\n",
              " 'mandara': 4575,\n",
              " 'movie': 4867,\n",
              " 'kano': 4078,\n",
              " 'trishul': 7435,\n",
              " 'theatre': 7196,\n",
              " 'wit': 7949,\n",
              " 'frnds': 3141,\n",
              " 'one': 5236,\n",
              " 'best': 1366,\n",
              " 'dialogue': 2408,\n",
              " 'cute': 2217,\n",
              " 'reltnship': 6013,\n",
              " 'wen': 7859,\n",
              " 'die': 2421,\n",
              " 'frnd': 3140,\n",
              " 'necesity': 4982,\n",
              " 'life': 4322,\n",
              " 'imagine': 3784,\n",
              " 'urself': 7602,\n",
              " 'witout': 7956,\n",
              " 'hwd': 3734,\n",
              " 'feel': 2930,\n",
              " 'ur': 7593,\n",
              " 'colleg': 1980,\n",
              " 'watll': 7805,\n",
              " 'wth': 8042,\n",
              " 'cell': 1781,\n",
              " 'wat': 7795,\n",
              " 'abt': 796,\n",
              " 'functions': 3171,\n",
              " 'thnk': 7237,\n",
              " 'events': 2779,\n",
              " 'espell': 2758,\n",
              " 'cared': 1721,\n",
              " 'amp': 991,\n",
              " 'irritated': 3910,\n",
              " '4wrd': 558,\n",
              " 'dearloving': 2306,\n",
              " 'wthout': 8043,\n",
              " 'cant': 1705,\n",
              " 'live': 4375,\n",
              " 'jst': 4041,\n",
              " 'takecare': 7066,\n",
              " 'probably': 5748,\n",
              " 'wont': 7983,\n",
              " 'eat': 2634,\n",
              " 'think': 7226,\n",
              " 'gonna': 3317,\n",
              " 'pop': 5622,\n",
              " 'weekend': 7840,\n",
              " 'miss': 4765,\n",
              " 'site': 6535,\n",
              " 'simulate': 6515,\n",
              " 'test': 7156,\n",
              " 'gives': 3274,\n",
              " 'tough': 7389,\n",
              " 'questions': 5856,\n",
              " 'readiness': 5924,\n",
              " 'ìï': 8233,\n",
              " 'sdryb8i': 6306,\n",
              " 'hey': 3564,\n",
              " 'something': 6660,\n",
              " 'came': 1687,\n",
              " 'last': 4240,\n",
              " 'min': 4734,\n",
              " 'wun': 8047,\n",
              " 'signing': 6502,\n",
              " 'tmr': 7310,\n",
              " 'hee': 3529,\n",
              " 'yeah': 8137,\n",
              " 'thats': 7190,\n",
              " 'thought': 7245,\n",
              " 'lemme': 4291,\n",
              " 'know': 4167,\n",
              " 'anythings': 1047,\n",
              " 'goin': 3303,\n",
              " 'later': 4246,\n",
              " 'knows': 4171,\n",
              " 'lunch': 4494,\n",
              " 'menu': 4688,\n",
              " 'da': 2228,\n",
              " 'hmm': 3600,\n",
              " 'well': 7854,\n",
              " 'night': 5039,\n",
              " 'private': 5740,\n",
              " '2003': 363,\n",
              " 'account': 815,\n",
              " 'statement': 6827,\n",
              " '07808': 32,\n",
              " 'xxxxxx': 8118,\n",
              " 'shows': 6478,\n",
              " '800': 661,\n",
              " 'unredeemed': 7563,\n",
              " 'points': 5597,\n",
              " '08719899217': 148,\n",
              " 'identifier': 3761,\n",
              " 'code': 1964,\n",
              " '41685': 511,\n",
              " 'expires': 2843,\n",
              " '071104': 23,\n",
              " 'per': 5446,\n",
              " 'request': 6055,\n",
              " 'melle': 4672,\n",
              " 'oru': 5292,\n",
              " 'minnaminunginte': 4746,\n",
              " 'nurungu': 5149,\n",
              " 'vettam': 7669,\n",
              " 'set': 6379,\n",
              " 'callertune': 1674,\n",
              " 'callers': 1673,\n",
              " 'press': 5712,\n",
              " 'friends': 3132,\n",
              " 'drama': 2551,\n",
              " 'plsi': 5566,\n",
              " 'enough': 2723,\n",
              " 'family': 2891,\n",
              " 'struggling': 6908,\n",
              " 'hot': 3662,\n",
              " 'sun': 6973,\n",
              " 'strange': 6888,\n",
              " 'placeno': 5535,\n",
              " 'reason': 5939,\n",
              " 'ego': 2665,\n",
              " 'invited': 3892,\n",
              " 'actually': 839,\n",
              " 'necessity': 4985,\n",
              " 'gowait': 3350,\n",
              " 'serious': 6372,\n",
              " 'reppurcussions': 6052,\n",
              " 'toot': 7367,\n",
              " 'fringe': 3138,\n",
              " 'said': 6219,\n",
              " 'text': 7161,\n",
              " 'time': 7282,\n",
              " 'shall': 6408,\n",
              " 'start': 6817,\n",
              " 'hear': 3518,\n",
              " 'nohe': 5075,\n",
              " 'joined': 4018,\n",
              " 'moneyas': 4827,\n",
              " 'youmoney': 8188,\n",
              " 'aint': 923,\n",
              " 'thinghow': 7224,\n",
              " 'sha': 6398,\n",
              " 'enjoy': 2717,\n",
              " 'jamster': 3966,\n",
              " 'videosound': 7683,\n",
              " 'gold': 3307,\n",
              " 'club': 1946,\n",
              " 'credits': 2160,\n",
              " 'videosounds2': 7684,\n",
              " 'logosmusicnews': 4408,\n",
              " 'fun': 3169,\n",
              " 'jamstercouk': 3967,\n",
              " '16only': 324,\n",
              " 'help': 3541,\n",
              " '09701213186': 236,\n",
              " 'natalja': 4964,\n",
              " '25f': 391,\n",
              " 'inviting': 3893,\n",
              " 'friend': 3131,\n",
              " 'reply': 6048,\n",
              " 'yes440': 8152,\n",
              " 'no440': 5064,\n",
              " 'see': 6326,\n",
              " 'wwwsmsacunat27081980': 8083,\n",
              " '62468': 601,\n",
              " 'gas': 3210,\n",
              " 'station': 6829,\n",
              " 'replying': 6049,\n",
              " 'boye': 1517,\n",
              " 'changed': 1800,\n",
              " 'phone': 5490,\n",
              " 'number': 5143,\n",
              " 'attended': 1170,\n",
              " 'repeat': 6040,\n",
              " 'instructions': 3870,\n",
              " 'wats': 7807,\n",
              " 'road': 6136,\n",
              " 'house': 3667,\n",
              " 'kkyesterday': 4159,\n",
              " 'cbe': 1766,\n",
              " 'yup': 8213,\n",
              " 'er': 2741,\n",
              " 'yep': 8148,\n",
              " 'sure': 6998,\n",
              " 'props': 5789,\n",
              " 'sister': 6533,\n",
              " 'got': 3340,\n",
              " 'placed': 5533,\n",
              " 'birla': 1403,\n",
              " 'soft': 6640,\n",
              " 'lifted': 4329,\n",
              " 'hopes': 3649,\n",
              " 'offer': 5185,\n",
              " 'money': 4826,\n",
              " 'especially': 2757,\n",
              " 'month': 4838,\n",
              " 'approaches': 1075,\n",
              " 'hurts': 3728,\n",
              " 'studying': 6917,\n",
              " 'anyways': 1051,\n",
              " 'gr8': 3354,\n",
              " 'arrived': 1122,\n",
              " 'couple': 2124,\n",
              " 'days': 2287,\n",
              " 'lt3': 4475,\n",
              " 'nokia': 5082,\n",
              " '6230': 600,\n",
              " 'plus': 5570,\n",
              " 'digital': 2433,\n",
              " 'camera': 1688,\n",
              " 'win': 7923,\n",
              " 'auction': 1177,\n",
              " 'part': 5385,\n",
              " '83383': 695,\n",
              " 'pobox11414tcrw1': 5578,\n",
              " 'housemaid': 3669,\n",
              " 'murderer': 4917,\n",
              " 'coz': 2133,\n",
              " 'murdered': 4916,\n",
              " 'ltgt': 4480,\n",
              " 'th': 7175,\n",
              " 'january': 3974,\n",
              " 'public': 5811,\n",
              " 'govtinstituitions': 3349,\n",
              " 'closedincluding': 1939,\n",
              " 'post': 5643,\n",
              " 'office': 5189,\n",
              " 'lil': 4340,\n",
              " 'fever': 2944,\n",
              " 'fine': 2978,\n",
              " 'mobiles': 4800,\n",
              " '2004': 364,\n",
              " 'must': 4921,\n",
              " 'txt': 7489,\n",
              " '89545': 743,\n",
              " 'collect': 1976,\n",
              " 'www4tcbiz': 8049,\n",
              " '2optout': 431,\n",
              " '08718726270150gbpmtmsg18': 131,\n",
              " 'txtauction': 7491,\n",
              " 'lazy': 4262,\n",
              " 'type': 7501,\n",
              " 'forgot': 3074,\n",
              " 'lect': 4280,\n",
              " 'saw': 6265,\n",
              " 'pouch': 5654,\n",
              " 'like': 4334,\n",
              " 'nice': 5030,\n",
              " 'reached': 5919,\n",
              " 'railway': 5879,\n",
              " 'happen': 3475,\n",
              " 'themobyo': 7202,\n",
              " 'yo': 8172,\n",
              " 'yohere': 8175,\n",
              " 'downloads': 2544,\n",
              " 'members': 4676,\n",
              " 'click': 1931,\n",
              " 'open': 5255,\n",
              " 'next': 5025,\n",
              " 'link': 4356,\n",
              " 'sent': 6363,\n",
              " 'fone': 3051,\n",
              " 'make': 4559,\n",
              " 'ne': 4978,\n",
              " 'plans': 5545,\n",
              " 'nxt': 5157,\n",
              " 'wknd': 7963,\n",
              " 'wants': 7779,\n",
              " 'us': 7603,\n",
              " 'come': 1992,\n",
              " 'ok': 5210,\n",
              " 'meet': 4659,\n",
              " '2morro': 422,\n",
              " 'mobile': 4799,\n",
              " 'awarded': 1210,\n",
              " '2000': 361,\n",
              " 'bonus': 1469,\n",
              " 'caller': 1672,\n",
              " 'prize': 5742,\n",
              " '09058095201': 172,\n",
              " 'land': 4220,\n",
              " 'line': 4348,\n",
              " 'valid': 7639,\n",
              " '12hrs': 278,\n",
              " '123': 272,\n",
              " 'congratulations': 2053,\n",
              " 'weeks': 7843,\n",
              " 'competition': 2016,\n",
              " 'draw': 2555,\n",
              " '1450': 288,\n",
              " 'claim': 1912,\n",
              " '09050002311': 157,\n",
              " 'b4280703': 1223,\n",
              " 'tcsstop': 7109,\n",
              " 'sms': 6615,\n",
              " '08718727868': 135,\n",
              " '18': 326,\n",
              " '150ppm': 309,\n",
              " 'dawhats': 2279,\n",
              " 'aight': 922,\n",
              " 'youre': 8193,\n",
              " 'mu': 4894,\n",
              " 'ill': 3777,\n",
              " 'swing': 7035,\n",
              " 'somebody': 6651,\n",
              " 'door': 2530,\n",
              " 'trying': 7452,\n",
              " 'contact': 2066,\n",
              " 'todays': 7325,\n",
              " 'guaranteed': 3414,\n",
              " '09050001295': 155,\n",
              " 'a21': 775,\n",
              " 'haiyoh': 3451,\n",
              " 'maybe': 4635,\n",
              " 'hamster': 3461,\n",
              " 'jealous': 3986,\n",
              " 'million': 4732,\n",
              " 'morning': 4850,\n",
              " 'great': 3377,\n",
              " 'successful': 6948,\n",
              " 'wheres': 7891,\n",
              " 'mummys': 4908,\n",
              " 'boy': 1516,\n",
              " 'bad': 1242,\n",
              " 'positive': 5635,\n",
              " 'negative': 4997,\n",
              " 'mummy': 4907,\n",
              " 'made': 4537,\n",
              " 'wait': 7748,\n",
              " 'hmmmm': 3605,\n",
              " 'wnt': 7971,\n",
              " 'buy': 1626,\n",
              " 'bmw': 1455,\n",
              " 'car': 1715,\n",
              " 'urgentlyits': 7597,\n",
              " 'vry': 7728,\n",
              " 'urgentbut': 7596,\n",
              " 'hv': 3731,\n",
              " 'shortage': 6461,\n",
              " 'lacsthere': 4205,\n",
              " 'source': 6705,\n",
              " 'arng': 1110,\n",
              " 'dis': 2455,\n",
              " 'amt': 995,\n",
              " 'lacsthats': 4204,\n",
              " 'prob': 5747,\n",
              " 'thanx': 7183,\n",
              " 'printing': 5736,\n",
              " 'handing': 3464,\n",
              " 'lined': 4350,\n",
              " 'told': 7333,\n",
              " 'significant': 6500,\n",
              " 'worry': 8008,\n",
              " 'chance': 1797,\n",
              " 'bluetooth': 1450,\n",
              " 'headset': 3513,\n",
              " 'simply': 6513,\n",
              " 'adp': 859,\n",
              " 'neva': 5012,\n",
              " 'grumble': 3406,\n",
              " 'aft': 883,\n",
              " 'meetin': 4660,\n",
              " 'fr': 3093,\n",
              " 'lei': 4290,\n",
              " 'lot': 4438,\n",
              " 'ar': 1087,\n",
              " 'nutter': 5152,\n",
              " 'cutter': 2221,\n",
              " 'ctter': 2188,\n",
              " 'cttergg': 2189,\n",
              " 'cttargg': 2187,\n",
              " 'ctargg': 2184,\n",
              " 'ctagg': 2183,\n",
              " 'ie': 3766,\n",
              " 'week': 7838,\n",
              " 'food': 3053,\n",
              " 'guy': 3429,\n",
              " 'flirting': 3023,\n",
              " 'paperwork': 5364,\n",
              " 'texted': 7167,\n",
              " 'nervous': 5004,\n",
              " 'course': 2127,\n",
              " 'may': 4633,\n",
              " 'address': 849,\n",
              " 'boss': 1486,\n",
              " 'knowing': 4169,\n",
              " 'fired': 2991,\n",
              " 'home': 3626,\n",
              " 'rs': 6176,\n",
              " 'dado': 2235,\n",
              " 'shame': 6409,\n",
              " 'cld': 1922,\n",
              " 'hrs': 3685,\n",
              " 'tomo': 7341,\n",
              " 'ìll': 8232,\n",
              " 'submitting': 6935,\n",
              " 'project': 5772,\n",
              " 'remember': 6018,\n",
              " 'mayb': 4634,\n",
              " 'meeting': 4661,\n",
              " 'says': 6269,\n",
              " 'hi': 3569,\n",
              " 'ass': 1146,\n",
              " 'south': 6707,\n",
              " 'tampa': 7082,\n",
              " 'preferably': 5695,\n",
              " 'kegger': 4098,\n",
              " 'would': 8018,\n",
              " 'cost': 2106,\n",
              " 'hire': 3586,\n",
              " 'hitman': 3591,\n",
              " 'shit': 6441,\n",
              " 'thasa': 7185,\n",
              " 'messed': 4710,\n",
              " 'upyeh': 7592,\n",
              " 'msgs': 4882,\n",
              " 'passthey': 5403,\n",
              " 'silently': 6506,\n",
              " 'say': 6266,\n",
              " 'thinking': 7229,\n",
              " 'right': 6118,\n",
              " 'making': 4563,\n",
              " 'least': 4275,\n",
              " 'moment': 4820,\n",
              " 'gd': 3227,\n",
              " 'ntswt': 5138,\n",
              " 'drms': 2577,\n",
              " 'shesil': 6429,\n",
              " 'haha': 3444,\n",
              " 'tyler': 7499,\n",
              " 'literally': 4372,\n",
              " 'asked': 1141,\n",
              " 'could': 2115,\n",
              " 'dubsack': 2596,\n",
              " 'unsubscribed': 7570,\n",
              " 'services': 6376,\n",
              " 'tons': 7361,\n",
              " 'sexy': 6390,\n",
              " 'babes': 1229,\n",
              " 'hunks': 3716,\n",
              " 'straight': 6886,\n",
              " 'httpgotbabescouk': 3690,\n",
              " 'subscriptions': 6944,\n",
              " 'lanre': 4230,\n",
              " 'fakeyes': 2882,\n",
              " 'eckankar': 2640,\n",
              " 'details': 2388,\n",
              " 'mail': 4550,\n",
              " 'oh': 5203,\n",
              " 'paid': 5344,\n",
              " 'outstanding': 5315,\n",
              " 'commercial': 2006,\n",
              " 'hasbroin': 3492,\n",
              " 'august': 1182,\n",
              " 'jump': 4051,\n",
              " 'many': 4582,\n",
              " 'hoops': 3642,\n",
              " 'tarot': 7088,\n",
              " 'texts': 7172,\n",
              " 'love': 4452,\n",
              " 'try': 7450,\n",
              " '85555': 712,\n",
              " '150': 290,\n",
              " 'bitch': 1409,\n",
              " 'siva': 6542,\n",
              " 'hostel': 3661,\n",
              " 'aha': 908,\n",
              " 'purity': 5827,\n",
              " 'friendship': 3134,\n",
              " 'two': 7488,\n",
              " 'smiling': 6609,\n",
              " 'reading': 5925,\n",
              " 'forwarded': 3086,\n",
              " 'messageits': 4701,\n",
              " 'seeing': 6328,\n",
              " 'gud': 3416,\n",
              " 'evng': 2798,\n",
              " 'musthu': 4923,\n",
              " 'colours': 1987,\n",
              " 'colour': 1984,\n",
              " 'quite': 5862,\n",
              " 'light': 4330,\n",
              " 'darker': 2259,\n",
              " 'done': 2523,\n",
              " 'shes': 6428,\n",
              " 'styling': 6929,\n",
              " 'hair': 3449,\n",
              " 'hiya': 3595,\n",
              " 'spoken': 6762,\n",
              " 'since': 6516,\n",
              " 'thing': 7223,\n",
              " 'exams': 2811,\n",
              " 'march': 4588,\n",
              " 'ive': 3949,\n",
              " 'revision': 6105,\n",
              " 'fran': 3095,\n",
              " 'boyf': 1518,\n",
              " 'gotta': 3345,\n",
              " 'interviw': 3882,\n",
              " 'exeter': 2823,\n",
              " 'worriedx': 8006,\n",
              " 'kkgoodstudy': 4151,\n",
              " 'nope': 5098,\n",
              " 'sch': 6278,\n",
              " 'fri': 3126,\n",
              " 'early': 2622,\n",
              " 'mys': 4931,\n",
              " 'sis': 6532,\n",
              " 'paper': 5362,\n",
              " 'morn': 4849,\n",
              " 'mums': 4909,\n",
              " 'present': 5708,\n",
              " 'loads': 4388,\n",
              " 'really': 5935,\n",
              " 'nasty': 4961,\n",
              " 'cough': 2113,\n",
              " 'dry': 2591,\n",
              " 'shot': 6464,\n",
              " 'shoot': 6453,\n",
              " 'big': 1386,\n",
              " '09066358361': 210,\n",
              " 'y87': 8123,\n",
              " 'worse': 8012,\n",
              " 'damn': 2244,\n",
              " 'poor': 5619,\n",
              " 'zac': 8216,\n",
              " 'doesnt': 2502,\n",
              " 'stand': 6808,\n",
              " 'party': 5393,\n",
              " 'alex': 946,\n",
              " 'nichols': 5032,\n",
              " 'jd': 3985,\n",
              " 'service': 6375,\n",
              " 'cum': 2198,\n",
              " 'accounts': 817,\n",
              " 'executive': 2821,\n",
              " 'id': 3754,\n",
              " 'blakes': 1420,\n",
              " 'might': 4726,\n",
              " 'able': 792,\n",
              " 'people': 5444,\n",
              " 'tour': 7391,\n",
              " 'sofa': 6639,\n",
              " 'curious': 2203,\n",
              " 'sugar': 6960,\n",
              " 'ohas': 5204,\n",
              " 'usual': 7621,\n",
              " 'vijay': 7687,\n",
              " 'film': 2968,\n",
              " 'different': 2429,\n",
              " 'online': 5242,\n",
              " 'kall': 4072,\n",
              " 'bestcongrats': 1368,\n",
              " 'belive': 1352,\n",
              " 'latest': 4248,\n",
              " 'closer': 1940,\n",
              " 'jay': 3980,\n",
              " 'trips': 7434,\n",
              " 'beautiful': 1319,\n",
              " 'girl': 3266,\n",
              " 'ever': 2781,\n",
              " 'seen': 6334,\n",
              " 'baby': 1232,\n",
              " 'common': 2008,\n",
              " 'lovable': 4451,\n",
              " 'bcums': 1311,\n",
              " 'angry': 1009,\n",
              " 'wid': 7909,\n",
              " 'dnt': 2489,\n",
              " 'seriously': 6373,\n",
              " 'childish': 1873,\n",
              " 'true': 7442,\n",
              " 'way': 7809,\n",
              " 'showing': 6476,\n",
              " 'deep': 2331,\n",
              " 'affection': 877,\n",
              " 'care': 1720,\n",
              " 'luv': 4499,\n",
              " 'kettoda': 4105,\n",
              " 'manda': 4573,\n",
              " 'let': 4304,\n",
              " 'noe': 5073,\n",
              " 'xy': 8122,\n",
              " 'picking': 5506,\n",
              " 'receipts': 5951,\n",
              " 'ûówell': 8242,\n",
              " 'ring': 6124,\n",
              " 'waitshould': 7753,\n",
              " 'texting': 7169,\n",
              " 'pay': 5419,\n",
              " 'ticket': 7271,\n",
              " 'ya': 8124,\n",
              " 'sending': 6356,\n",
              " 'greetings': 3388,\n",
              " 'joy': 4036,\n",
              " 'happiness': 3483,\n",
              " 'evening': 2776,\n",
              " 'around': 1113,\n",
              " 'ltdecimalgt': 4477,\n",
              " 'problem': 5749,\n",
              " 'cannt': 1704,\n",
              " 'asa': 1131,\n",
              " 'thts': 7264,\n",
              " 'gods': 3297,\n",
              " 'gift': 3260,\n",
              " 'birds': 1402,\n",
              " 'humans': 3711,\n",
              " 'hav': 3501,\n",
              " 'natural': 4969,\n",
              " 'frm': 3139,\n",
              " 'god': 3294,\n",
              " 'long': 4416,\n",
              " 'applebees': 1067,\n",
              " 'anyone': 1041,\n",
              " 'calls': 1679,\n",
              " 'treadmill': 7423,\n",
              " 'youll': 8187,\n",
              " 'working': 7997,\n",
              " 'found': 3088,\n",
              " 'ad': 841,\n",
              " 'craigslist': 2142,\n",
              " 'selling': 6347,\n",
              " 'point': 5596,\n",
              " 'hangin': 3471,\n",
              " 'mr': 4873,\n",
              " 'hes': 3560,\n",
              " 'makin': 4562,\n",
              " 'chk': 1887,\n",
              " 'belovd': 1357,\n",
              " 'ms': 4877,\n",
              " 'dict': 2414,\n",
              " 'ten': 7141,\n",
              " 'billion': 1393,\n",
              " 'forget': 3069,\n",
              " 'though': 7244,\n",
              " 'walk': 7758,\n",
              " 'beside': 1365,\n",
              " 'keeping': 4096,\n",
              " 'heart': 3520,\n",
              " 'warm': 7782,\n",
              " 'unlimited': 7561,\n",
              " 'limited': 4344,\n",
              " 'living': 4380,\n",
              " 'simple': 6511,\n",
              " 'loving': 4462,\n",
              " 'winning': 7935,\n",
              " 'tooo': 7365,\n",
              " 'difficult': 2430,\n",
              " 'cool': 2089,\n",
              " 'parked': 5382,\n",
              " 'ello': 2684,\n",
              " 'nt': 5136,\n",
              " 'joking': 4027,\n",
              " '40gb': 508,\n",
              " 'ipod': 3904,\n",
              " 'mp3': 4871,\n",
              " 'player': 5550,\n",
              " '500': 561,\n",
              " '83355': 693,\n",
              " 'ibhltd': 3741,\n",
              " 'ldnw15h': 4265,\n",
              " '150pmtmsgrcvd18': 307,\n",
              " 'representative': 6053,\n",
              " '0800': 42,\n",
              " '169': 323,\n",
              " '6031': 595,\n",
              " '10am9pm': 252,\n",
              " '1000': 239,\n",
              " 'thanks': 7180,\n",
              " 'tescos': 7154,\n",
              " 'gone': 3314,\n",
              " 'speak': 6724,\n",
              " 'soon': 6678,\n",
              " 'ago': 903,\n",
              " 'show': 6471,\n",
              " '850': 706,\n",
              " 'toa': 7315,\n",
              " 'payoh': 5426,\n",
              " '650': 606,\n",
              " 'protect': 5792,\n",
              " 'ethreats': 2766,\n",
              " 'sib': 6489,\n",
              " 'never': 5013,\n",
              " 'asks': 1144,\n",
              " 'sensitive': 6362,\n",
              " 'passwordsatmsms': 5405,\n",
              " 'pin': 5522,\n",
              " 'thru': 7260,\n",
              " 'email': 2688,\n",
              " 'share': 6415,\n",
              " 'password': 5404,\n",
              " 'anybody': 1037,\n",
              " 'meh': 4665,\n",
              " 'thgt': 7220,\n",
              " 'clash': 1917,\n",
              " 'dun': 2606,\n",
              " 'mind': 4737,\n",
              " 'lost': 4437,\n",
              " 'weight': 7846,\n",
              " 'gee': 3231,\n",
              " 'newest': 5017,\n",
              " 'ûïharry': 8240,\n",
              " 'potter': 5653,\n",
              " 'order': 5280,\n",
              " 'phoenix': 5489,\n",
              " 'book': 1472,\n",
              " 'harry': 3491,\n",
              " 'answer': 1027,\n",
              " 'first': 2994,\n",
              " 'among': 987,\n",
              " 'readers': 5923,\n",
              " 'goodmorningmy': 3327,\n",
              " 'grandfather': 3363,\n",
              " 'expiredso': 2842,\n",
              " 'leave': 4277,\n",
              " 'ic': 3747,\n",
              " 'lotta': 4442,\n",
              " 'childporn': 1874,\n",
              " 'cars': 1740,\n",
              " 'enter': 2724,\n",
              " 'place': 5532,\n",
              " 'okay': 5211,\n",
              " 'sleep': 6568,\n",
              " 'remains': 6016,\n",
              " 'bro': 1562,\n",
              " 'amongst': 988,\n",
              " 'bros': 1568,\n",
              " 'major': 4558,\n",
              " 'roles': 6148,\n",
              " 'community': 2009,\n",
              " 'outreach': 5311,\n",
              " 'rock': 6142,\n",
              " 'mel': 4670,\n",
              " 'justbeen': 4057,\n",
              " 'overa': 5318,\n",
              " 'broke': 1565,\n",
              " 'brains': 1527,\n",
              " 'mush': 4918,\n",
              " 'sday': 6305,\n",
              " 'joinedso': 4020,\n",
              " 'training': 7405,\n",
              " 'started': 6818,\n",
              " 'yalru': 8128,\n",
              " 'lyfu': 4507,\n",
              " 'astne': 1153,\n",
              " 'chikku': 1863,\n",
              " 'bt': 1584,\n",
              " 'innu': 3854,\n",
              " 'mundhe': 4912,\n",
              " 'lyf': 4506,\n",
              " 'ali': 952,\n",
              " 'halla': 3456,\n",
              " 'ke': 4093,\n",
              " 'bilo': 1396,\n",
              " 'marriageprogram': 4598,\n",
              " 'edhae': 2643,\n",
              " 'yet': 8163,\n",
              " 'ovr': 5322,\n",
              " 'chikkuali': 1864,\n",
              " 'vargu': 7646,\n",
              " 'meow': 4690,\n",
              " 'meowd': 4691,\n",
              " 'winner': 7933,\n",
              " 'specially': 6731,\n",
              " 'selected': 6340,\n",
              " 'receive': 5952,\n",
              " 'award': 1209,\n",
              " 'operator': 5260,\n",
              " '087147123779am7pm': 106,\n",
              " '10p': 254,\n",
              " 'hello': 3536,\n",
              " 'fancy': 2897,\n",
              " 'drink': 2567,\n",
              " 'cashbalance': 1746,\n",
              " 'currently': 2205,\n",
              " 'pounds': 5657,\n",
              " 'maximize': 4631,\n",
              " 'cashin': 1749,\n",
              " '86688': 717,\n",
              " '150pmsg': 302,\n",
              " 'cc': 1767,\n",
              " '08718720201': 127,\n",
              " '11414': 261,\n",
              " 'tcrw1': 7105,\n",
              " 'drive': 2572,\n",
              " 'version': 7667,\n",
              " 'tomorrow': 7344,\n",
              " 'awake': 1208,\n",
              " 'photoshop': 5498,\n",
              " 'makes': 4560,\n",
              " 'computer': 2030,\n",
              " 'shut': 6485,\n",
              " 'goal': 3292,\n",
              " 'gorgeous': 3337,\n",
              " 'keep': 4095,\n",
              " 'pix': 5529,\n",
              " 'cumming': 2199,\n",
              " 'thank': 7179,\n",
              " 'stupid': 6927,\n",
              " 'challenge': 1794,\n",
              " 'godyou': 3299,\n",
              " 'write': 8027,\n",
              " 'instead': 3869,\n",
              " 'immed': 3788,\n",
              " 'jess': 3997,\n",
              " 'eve': 2773,\n",
              " 'xxx': 8113,\n",
              " 'website': 7827,\n",
              " 'play': 5548,\n",
              " 'hold': 3616,\n",
              " 'em': 2687,\n",
              " 'using': 7615,\n",
              " 'spacebucks': 6713,\n",
              " 'world': 8000,\n",
              " 'suffers': 6957,\n",
              " 'violence': 7695,\n",
              " 'silence': 6504,\n",
              " 'forfeit': 3068,\n",
              " 'exam': 2810,\n",
              " 'safe': 6217,\n",
              " 'oops': 5254,\n",
              " 'check': 1831,\n",
              " 'half': 3453,\n",
              " 'eight': 2667,\n",
              " 'anand': 1001,\n",
              " 'membership': 4677,\n",
              " '100000': 241,\n",
              " 'jackpot': 3960,\n",
              " ...}"
            ]
          },
          "metadata": {},
          "execution_count": 95
        }
      ]
    },
    {
      "cell_type": "markdown",
      "source": [
        "Build the model"
      ],
      "metadata": {
        "id": "6XLbTQsoq0P2"
      }
    },
    {
      "cell_type": "code",
      "source": [
        "from sklearn.ensemble import RandomForestClassifier\n",
        "rf= RandomForestClassifier()\n",
        "rf_model = rf.fit(x_train_vect , y_train.values.ravel())"
      ],
      "metadata": {
        "id": "DX1BMYSHqRmL"
      },
      "execution_count": 96,
      "outputs": []
    },
    {
      "cell_type": "markdown",
      "source": [
        "Prediction"
      ],
      "metadata": {
        "id": "d4cMLF_PrAct"
      }
    },
    {
      "cell_type": "code",
      "source": [
        "y_pred = rf_model.predict(x_test_vect)"
      ],
      "metadata": {
        "id": "R938vy3Tq1zz"
      },
      "execution_count": 97,
      "outputs": []
    },
    {
      "cell_type": "markdown",
      "source": [
        "Evaluate the Model"
      ],
      "metadata": {
        "id": "7a2PP79brL9f"
      }
    },
    {
      "cell_type": "code",
      "source": [
        "from sklearn.metrics import precision_score, recall_score, accuracy_score\n",
        "#prcision score= TPR=TP/TP+FP \n",
        "precision= precision_score(y_test, y_pred, pos_label='spam')\n",
        "#Recall score= TP/TP+FN\n",
        "recall = recall_score(y_test, y_pred, pos_label='spam')\n",
        "#Accuracy score\n",
        "accuracy= accuracy_score(y_test, y_pred)\n",
        "\n",
        "print('Precision: {} / Recall: {} '.format(round(precision, 3), round(recall, 3)))\n",
        "print('Accuracy: {} ',accuracy)"
      ],
      "metadata": {
        "colab": {
          "base_uri": "https://localhost:8080/"
        },
        "id": "ACoj8tmqrLRg",
        "outputId": "fa6ce02d-8860-460c-b453-8dcf9d4a0792"
      },
      "execution_count": 98,
      "outputs": [
        {
          "output_type": "stream",
          "name": "stdout",
          "text": [
            "Precision: 1.0 / Recall: 0.755 \n",
            "Accuracy: {}  0.9659192825112107\n"
          ]
        }
      ]
    },
    {
      "cell_type": "markdown",
      "source": [
        "Here We can observe that,\n",
        "Evaluation metrics are good for TFIDF Model\n",
        "High precision, Recall(sensitivity), Accuracy\n",
        "We will compare these evaluation metrics with other methods"
      ],
      "metadata": {
        "id": "gYIrgJQODNL2"
      }
    },
    {
      "cell_type": "markdown",
      "source": [
        "##2. Word2Vec Model"
      ],
      "metadata": {
        "id": "yBdu2nPbH7Kk"
      }
    },
    {
      "cell_type": "code",
      "source": [
        "import gensim"
      ],
      "metadata": {
        "id": "x5sA0CGvDKpU"
      },
      "execution_count": 99,
      "outputs": []
    },
    {
      "cell_type": "markdown",
      "source": [
        "Aggregate Sentence Vectors generation"
      ],
      "metadata": {
        "id": "BPI7xlRaId-4"
      }
    },
    {
      "cell_type": "code",
      "source": [
        "#adjecent words vectors taken into consideration for Sentence vector\n",
        "w2v_model= gensim.models.Word2Vec(x_train, size= 100, window= 5, min_count=2)\n",
        "#indexing of words\n",
        "words= set(w2v_model.wv.index2word)\n",
        "\n",
        "#nested arrays to generate aggregate sentence vectors\n",
        "x_train_vect= np.array([np.array([w2v_model.wv[i]\n",
        "                                  for i in ls if i in words])\n",
        "                                  for ls in x_train['clean_text']\n",
        "                        ])\n",
        "x_test_vect= np.array([np.array([w2v_model.wv[i]\n",
        "                                  for i in ls if i in words])\n",
        "                                  for ls in x_test['clean_text']\n",
        "                        ])"
      ],
      "metadata": {
        "colab": {
          "base_uri": "https://localhost:8080/"
        },
        "id": "xIBaF25jIdIe",
        "outputId": "9272ec45-582f-4936-8a08-307b9d076231"
      },
      "execution_count": 100,
      "outputs": [
        {
          "output_type": "stream",
          "name": "stderr",
          "text": [
            "WARNING:gensim.models.word2vec:Each 'sentences' item should be a list of words (usually unicode strings). First item here is instead plain <class 'str'>.\n",
            "WARNING:gensim.models.base_any2vec:under 10 jobs per worker: consider setting a smaller `batch_words' for smoother alpha decay\n",
            "/usr/local/lib/python3.7/dist-packages/ipykernel_launcher.py:9: VisibleDeprecationWarning: Creating an ndarray from ragged nested sequences (which is a list-or-tuple of lists-or-tuples-or ndarrays with different lengths or shapes) is deprecated. If you meant to do this, you must specify 'dtype=object' when creating the ndarray.\n",
            "  if __name__ == '__main__':\n",
            "/usr/local/lib/python3.7/dist-packages/ipykernel_launcher.py:13: VisibleDeprecationWarning: Creating an ndarray from ragged nested sequences (which is a list-or-tuple of lists-or-tuples-or ndarrays with different lengths or shapes) is deprecated. If you meant to do this, you must specify 'dtype=object' when creating the ndarray.\n",
            "  del sys.path[0]\n"
          ]
        }
      ]
    },
    {
      "cell_type": "markdown",
      "source": [
        "single vector representation using average"
      ],
      "metadata": {
        "id": "sGpdoskYLW1s"
      }
    },
    {
      "cell_type": "code",
      "source": [
        "#Standardizing size by zero padding\n",
        "x_train_vect_avg = []\n",
        "for v in x_train_vect:\n",
        "  if v.size:\n",
        "    x_train_vect_avg.append(v.mean(axis =0 ))\n",
        "  else:\n",
        "    x_train_vect_avg.append(np.zeros(100))\n",
        "\n",
        "x_test_vect_avg = []\n",
        "for v in x_test_vect:\n",
        "  if v.size:\n",
        "    x_test_vect_avg.append(v.mean(axis =0 ))\n",
        "  else:\n",
        "    x_test_vect_avg.append(np.zeros(100))"
      ],
      "metadata": {
        "id": "T605jTE8KmCa"
      },
      "execution_count": 101,
      "outputs": []
    },
    {
      "cell_type": "code",
      "source": [
        "x_test_vect_avg[0]"
      ],
      "metadata": {
        "colab": {
          "base_uri": "https://localhost:8080/"
        },
        "id": "Q_YMJ8TNL-L3",
        "outputId": "7255e956-9cae-42bc-dcfb-8a29df76aad2"
      },
      "execution_count": 102,
      "outputs": [
        {
          "output_type": "execute_result",
          "data": {
            "text/plain": [
              "array([-5.2561762e-04, -2.8732978e-03, -2.9415300e-03, -1.3200998e-03,\n",
              "        2.6716024e-03,  9.6831827e-05, -2.7942113e-03, -3.3689296e-04,\n",
              "       -4.3036877e-03, -5.2125589e-04, -1.1373855e-03,  4.4006370e-03,\n",
              "       -3.0622205e-03,  3.9813989e-03,  1.4544857e-03,  2.5494904e-03,\n",
              "       -2.3509183e-03,  2.4994656e-03,  4.4527734e-03, -3.5284190e-03,\n",
              "        4.2209565e-03,  6.7420478e-05, -3.7061112e-04, -4.0048077e-03,\n",
              "       -4.4059162e-03, -3.8443403e-03,  1.9727789e-03, -2.1678719e-03,\n",
              "       -4.2226436e-03, -4.3032719e-03, -1.1109781e-03, -8.7673467e-04,\n",
              "       -2.9700145e-03,  2.9724136e-03, -2.1802271e-03,  4.8593832e-03,\n",
              "        1.1444227e-03,  4.4962107e-03, -4.7983156e-04,  9.3861209e-04,\n",
              "        3.0434700e-03, -1.3340096e-03, -3.6902823e-03, -4.0204902e-03,\n",
              "        4.6026791e-03,  2.4487872e-03, -1.2824469e-03,  4.6696221e-03,\n",
              "       -2.9283261e-03,  2.9367753e-03,  1.7404304e-03,  9.7386225e-04,\n",
              "       -1.6268203e-03,  3.1263835e-03, -1.4661117e-03, -4.2743795e-03,\n",
              "        2.9292577e-03, -3.5919771e-03,  3.4946473e-03, -4.9795518e-03,\n",
              "       -3.6520729e-04,  9.1891625e-04,  2.8536245e-04, -4.1964184e-03,\n",
              "        1.1118328e-03, -4.3811784e-03, -1.3287013e-03, -3.5506319e-03,\n",
              "        2.9520348e-03, -4.1232132e-03, -1.3193751e-03,  3.7620822e-03,\n",
              "       -4.6229223e-03,  2.2703088e-03,  2.2023700e-03,  2.3115221e-03,\n",
              "       -3.9057175e-03,  5.9557374e-04, -1.8707823e-03, -4.7115376e-03,\n",
              "        4.5804763e-03, -1.2378336e-03,  2.3123922e-04, -4.5980918e-03,\n",
              "       -4.2550295e-04, -3.7850635e-03,  1.7391407e-03,  1.6090787e-03,\n",
              "       -4.3612299e-03, -2.5599599e-03,  2.4247372e-03, -4.4589592e-03,\n",
              "        1.7208868e-04,  3.5693252e-03,  7.2784710e-04,  1.3198428e-03,\n",
              "       -3.8010669e-03, -5.1470363e-04,  2.4504440e-03,  4.4035669e-03],\n",
              "      dtype=float32)"
            ]
          },
          "metadata": {},
          "execution_count": 102
        }
      ]
    },
    {
      "cell_type": "code",
      "source": [
        "x_test_vect_avg[11]"
      ],
      "metadata": {
        "colab": {
          "base_uri": "https://localhost:8080/"
        },
        "id": "i36dx290Mc68",
        "outputId": "63a877a8-ec6b-4b98-cdd0-34e09d131836"
      },
      "execution_count": 103,
      "outputs": [
        {
          "output_type": "execute_result",
          "data": {
            "text/plain": [
              "array([-2.4996727e-04, -3.1587058e-03, -1.4108357e-03, -1.5568475e-03,\n",
              "        3.4759892e-03, -1.3859653e-03, -3.5098009e-03,  5.8656780e-04,\n",
              "       -4.3261321e-03,  5.3195271e-04, -2.3323556e-03,  1.4651226e-03,\n",
              "       -2.0924346e-03,  1.1815993e-03,  8.7951316e-04,  1.2310176e-03,\n",
              "       -9.3538329e-05,  2.8615075e-03,  3.1888175e-03, -2.5729497e-03,\n",
              "        4.4103418e-03,  1.7470779e-03,  1.5151601e-03, -2.5439220e-03,\n",
              "       -4.1349172e-03, -3.5260892e-03, -5.6497316e-04, -3.2278565e-03,\n",
              "       -1.8783441e-03, -1.5845599e-03, -5.0080247e-04, -2.1429942e-03,\n",
              "       -7.1880489e-04,  1.6039378e-03, -1.9780784e-03,  4.0734746e-03,\n",
              "        2.3646776e-03,  4.5738220e-03, -1.8841518e-03, -7.3259478e-05,\n",
              "        2.9026861e-03,  4.1240011e-05, -3.8783313e-03, -6.0116383e-04,\n",
              "        4.5821862e-03,  1.3801978e-03,  3.9787039e-05,  4.1932142e-03,\n",
              "       -3.2550921e-03,  2.8354302e-03,  2.3409287e-03,  2.0180787e-03,\n",
              "       -1.8917179e-03,  1.6544147e-03, -2.5075637e-03, -7.4283232e-04,\n",
              "        2.3309248e-03, -3.5227279e-03,  3.3745314e-03, -1.4041000e-03,\n",
              "       -2.6161622e-04,  1.9221407e-03,  3.7445192e-04, -1.4784479e-03,\n",
              "       -9.5102098e-04, -3.4112367e-03,  5.6404166e-04, -2.3445892e-03,\n",
              "        1.6012755e-03, -1.8194313e-03, -9.7932178e-04,  3.8413557e-03,\n",
              "       -1.3910097e-03, -3.3346255e-04,  8.7289145e-04, -2.9814939e-04,\n",
              "       -1.6964900e-03, -9.9441456e-04, -4.0329542e-04, -2.1553622e-03,\n",
              "        2.1971876e-03, -3.7681943e-04,  5.1111901e-06, -4.0367153e-03,\n",
              "        1.6546642e-03, -1.5153046e-03,  2.0616225e-03,  1.8768106e-03,\n",
              "       -3.4345775e-03, -2.5681083e-03, -8.4309926e-05, -4.5485138e-03,\n",
              "        1.4940334e-03,  1.5176402e-03,  1.8193324e-03, -5.0752111e-05,\n",
              "       -3.7383337e-03, -1.1466731e-03,  2.0207067e-03,  3.3916624e-03],\n",
              "      dtype=float32)"
            ]
          },
          "metadata": {},
          "execution_count": 103
        }
      ]
    },
    {
      "cell_type": "markdown",
      "source": [
        "Fit the Model"
      ],
      "metadata": {
        "id": "1YPFAyAXMqPp"
      }
    },
    {
      "cell_type": "code",
      "source": [
        "from sklearn.ensemble import RandomForestClassifier\n",
        "rf= RandomForestClassifier()\n",
        "rf_model= rf.fit(x_train_vect_avg, y_train.values.ravel())"
      ],
      "metadata": {
        "id": "DffSmsdlMhxu"
      },
      "execution_count": 104,
      "outputs": []
    },
    {
      "cell_type": "markdown",
      "source": [
        "Prediction"
      ],
      "metadata": {
        "id": "8cwxM6QbNS3A"
      }
    },
    {
      "cell_type": "code",
      "source": [
        "y_pred= rf_model.predict(x_test_vect_avg)\n",
        "y_pred\n"
      ],
      "metadata": {
        "colab": {
          "base_uri": "https://localhost:8080/"
        },
        "id": "OaKx8sJ0NSH7",
        "outputId": "58719d69-11ed-48fd-e3af-71a52b4796e7"
      },
      "execution_count": 105,
      "outputs": [
        {
          "output_type": "execute_result",
          "data": {
            "text/plain": [
              "array(['ham', 'spam', 'ham', ..., 'ham', 'ham', 'ham'], dtype=object)"
            ]
          },
          "metadata": {},
          "execution_count": 105
        }
      ]
    },
    {
      "cell_type": "markdown",
      "source": [
        "Evaluate the performance of Model"
      ],
      "metadata": {
        "id": "tbDb72N2Ngee"
      }
    },
    {
      "cell_type": "code",
      "source": [
        "from sklearn.metrics import precision_score, recall_score, accuracy_score\n",
        "#prcision score= TPR=TP/TP+FP \n",
        "precision= precision_score(y_test, y_pred, pos_label='spam')\n",
        "#Recall score= TP/TP+FN\n",
        "recall = recall_score(y_test, y_pred, pos_label='spam')\n",
        "#Accuracy score\n",
        "accuracy= accuracy_score(y_test, y_pred)\n",
        "\n",
        "print('Precision: {} / Recall: {} '.format(round(precision, 3), round(recall, 3)))\n",
        "print('Accuracy:  ',accuracy)"
      ],
      "metadata": {
        "colab": {
          "base_uri": "https://localhost:8080/"
        },
        "id": "3e6VriPpNcHF",
        "outputId": "43edf90a-fb69-4f40-a3ae-871ea8dcc543"
      },
      "execution_count": 106,
      "outputs": [
        {
          "output_type": "stream",
          "name": "stdout",
          "text": [
            "Precision: 0.5 / Recall: 0.213 \n",
            "Accuracy:   0.8609865470852018\n"
          ]
        }
      ]
    },
    {
      "cell_type": "markdown",
      "source": [
        "Here We can clearly observe that it is a poor model\n",
        "with low performance metrics"
      ],
      "metadata": {
        "id": "NwifDpziN5PE"
      }
    },
    {
      "cell_type": "markdown",
      "source": [
        "##3. Doc2Vec Model"
      ],
      "metadata": {
        "id": "Q9rf8Nc3O0-0"
      }
    },
    {
      "cell_type": "markdown",
      "source": [
        "Tagged docs required for unique representation"
      ],
      "metadata": {
        "id": "YvC78mReS1HS"
      }
    },
    {
      "cell_type": "code",
      "source": [
        "tagged_docs_train = [gensim.models.doc2vec.TaggedDocument(v, [i])\n",
        "                    for i,v in enumerate(x_train['clean_text']) ]\n",
        "\n",
        "tagged_docs_test = [gensim.models.doc2vec.TaggedDocument(v, [i])\n",
        "                    for i,v in enumerate(x_test['clean_text']) ]"
      ],
      "metadata": {
        "id": "pX4nrr1WN4wW"
      },
      "execution_count": 107,
      "outputs": []
    },
    {
      "cell_type": "markdown",
      "source": [
        "v represents the word and i as its unique index "
      ],
      "metadata": {
        "id": "dBumC584TeTr"
      }
    },
    {
      "cell_type": "markdown",
      "source": [
        "Build the Model"
      ],
      "metadata": {
        "id": "uug01FdxUVuF"
      }
    },
    {
      "cell_type": "code",
      "source": [
        "d2v_model= gensim.models.Doc2Vec( tagged_docs_train,\n",
        "                                 vector_size=100, window=5, min_count=2 )"
      ],
      "metadata": {
        "colab": {
          "base_uri": "https://localhost:8080/"
        },
        "id": "qvhNIci6Tbt3",
        "outputId": "256b1803-6d23-4ab6-f0e5-55855fc4c32a"
      },
      "execution_count": 108,
      "outputs": [
        {
          "output_type": "stream",
          "name": "stderr",
          "text": [
            "WARNING:gensim.models.doc2vec:Each 'words' should be a list of words (usually unicode strings). First 'words' here is instead plain <class 'str'>.\n"
          ]
        }
      ]
    },
    {
      "cell_type": "markdown",
      "source": [
        "Infer vector method to convert list of words into Numeric vector Representation"
      ],
      "metadata": {
        "id": "-VRfs6gGU0HW"
      }
    },
    {
      "cell_type": "code",
      "source": [
        "train_vector = [d2v_model.infer_vector(eval(v.words))\n",
        "                for v in tagged_docs_train]\n",
        "test_vector = [d2v_model.infer_vector(eval(v.words))\n",
        "                for v in tagged_docs_test]"
      ],
      "metadata": {
        "id": "OR9-3U5cUrYc"
      },
      "execution_count": 109,
      "outputs": []
    },
    {
      "cell_type": "markdown",
      "source": [
        "eval function extracts list of words from string"
      ],
      "metadata": {
        "id": "aXN5_6DHWEWw"
      }
    },
    {
      "cell_type": "markdown",
      "source": [
        "Fit the model"
      ],
      "metadata": {
        "id": "GeHI5yg-WP4Q"
      }
    },
    {
      "cell_type": "code",
      "source": [
        "from sklearn.ensemble import RandomForestClassifier\n",
        "rf= RandomForestClassifier()\n",
        "rf_model= rf.fit(train_vector, y_train.values.ravel())\n",
        "#predict\n",
        "y_pred= rf_model.predict(test_vector)\n",
        "y_pred\n"
      ],
      "metadata": {
        "colab": {
          "base_uri": "https://localhost:8080/"
        },
        "id": "hB24Vp2_Vbm9",
        "outputId": "bd024716-999f-4190-f025-935368c653b5"
      },
      "execution_count": 110,
      "outputs": [
        {
          "output_type": "execute_result",
          "data": {
            "text/plain": [
              "array(['ham', 'ham', 'ham', ..., 'ham', 'ham', 'ham'], dtype=object)"
            ]
          },
          "metadata": {},
          "execution_count": 110
        }
      ]
    },
    {
      "cell_type": "markdown",
      "source": [
        "Evaluation of model"
      ],
      "metadata": {
        "id": "uGddttAXWdmZ"
      }
    },
    {
      "cell_type": "code",
      "source": [
        "from sklearn.metrics import precision_score, recall_score, accuracy_score\n",
        "#prcision score= TPR=TP/TP+FP \n",
        "precision= precision_score(y_test, y_pred, pos_label='spam')\n",
        "#Recall score= TP/TP+FN\n",
        "recall = recall_score(y_test, y_pred, pos_label='spam')\n",
        "#Accuracy score\n",
        "accuracy= accuracy_score(y_test, y_pred)\n",
        "\n",
        "print('Precision: {} / Recall: {} '.format(round(precision, 3), round(recall, 3)))\n",
        "print('Accuracy:  ',accuracy)"
      ],
      "metadata": {
        "colab": {
          "base_uri": "https://localhost:8080/"
        },
        "id": "V_UXXPcKWass",
        "outputId": "3bbfc314-52b6-4042-d9de-0a1ac60fc551"
      },
      "execution_count": 111,
      "outputs": [
        {
          "output_type": "stream",
          "name": "stdout",
          "text": [
            "Precision: 0.754 / Recall: 0.316 \n",
            "Accuracy:   0.8905829596412556\n"
          ]
        }
      ]
    },
    {
      "cell_type": "markdown",
      "source": [
        "Here we can observe that performance is slighly better than word2vec but not upto the level of tfidf.\n",
        "we are able to overcome some drawbacks of word2vec "
      ],
      "metadata": {
        "id": "W3q8EQvPXWcz"
      }
    },
    {
      "cell_type": "markdown",
      "source": [
        "##4. RNN Model"
      ],
      "metadata": {
        "id": "QJwxTx98bJi8"
      }
    },
    {
      "cell_type": "code",
      "source": [
        "from keras.preprocessing.text import Tokenizer\n",
        "from keras.preprocessing.sequence import pad_sequences"
      ],
      "metadata": {
        "id": "sHaCQwmEWjlZ"
      },
      "execution_count": 130,
      "outputs": []
    },
    {
      "cell_type": "markdown",
      "source": [
        "Initialize and Fit"
      ],
      "metadata": {
        "id": "rNyHlUBhba5c"
      }
    },
    {
      "cell_type": "code",
      "source": [
        "tokenizer= Tokenizer()\n",
        "tokenizer.fit_on_texts(x_train)"
      ],
      "metadata": {
        "id": "xJz6NIypbX9P"
      },
      "execution_count": 131,
      "outputs": []
    },
    {
      "cell_type": "code",
      "source": [
        "x_train_seq= tokenizer.texts_to_sequences(x_train)\n",
        "x_test_seq= tokenizer.texts_to_sequences(x_test)"
      ],
      "metadata": {
        "id": "agLAJ8tJbd7Z"
      },
      "execution_count": 132,
      "outputs": []
    },
    {
      "cell_type": "code",
      "source": [
        "x_test_seq[0]"
      ],
      "metadata": {
        "colab": {
          "base_uri": "https://localhost:8080/"
        },
        "id": "0OKlzsBkbhK7",
        "outputId": "ad90198d-88c8-4b20-d5a3-a8634e635170"
      },
      "execution_count": 133,
      "outputs": [
        {
          "output_type": "execute_result",
          "data": {
            "text/plain": [
              "[49, 2, 1473, 560, 97, 185, 14]"
            ]
          },
          "metadata": {},
          "execution_count": 133
        }
      ]
    },
    {
      "cell_type": "markdown",
      "source": [
        "Padding for equal size\n"
      ],
      "metadata": {
        "id": "MVBqw0LtboP0"
      }
    },
    {
      "cell_type": "code",
      "source": [
        "x_train_seq_padded= pad_sequences(x_train_seq, 50)\n",
        "x_test_seq_padded= pad_sequences(x_test_seq, 50)"
      ],
      "metadata": {
        "id": "nIi7I0DobkMZ"
      },
      "execution_count": 134,
      "outputs": []
    },
    {
      "cell_type": "code",
      "source": [
        "x_train_seq_padded[0]"
      ],
      "metadata": {
        "colab": {
          "base_uri": "https://localhost:8080/"
        },
        "id": "slv4z4TUbnNk",
        "outputId": "2a8169b3-527f-4736-aaef-66f1bebfb9c4"
      },
      "execution_count": 135,
      "outputs": [
        {
          "output_type": "execute_result",
          "data": {
            "text/plain": [
              "array([   0,    0,    0,    0,    0,    0,    0,    0,    0,    0,    0,\n",
              "          0,    0,    0,    0,    0,    0,    0,    0,    0,    0,    0,\n",
              "          0,    0,    0,    0,    0,    0,    0,    0,    0,    0,    0,\n",
              "          0,    0,    0,    0,    0,    0,    0,    0,    0,    0,    0,\n",
              "       3821,   70,   10,   46,  264,  119], dtype=int32)"
            ]
          },
          "metadata": {},
          "execution_count": 135
        }
      ]
    },
    {
      "cell_type": "markdown",
      "source": [
        "Build the model"
      ],
      "metadata": {
        "id": "c4UUZ7bkbzY6"
      }
    },
    {
      "cell_type": "code",
      "source": [
        "import keras.backend as K\n",
        "from keras.layers import Dense, Embedding, LSTM\n",
        "from keras.models import Sequential"
      ],
      "metadata": {
        "id": "sIz6zbnlbwnO"
      },
      "execution_count": 136,
      "outputs": []
    },
    {
      "cell_type": "code",
      "source": [
        "model= Sequential()\n",
        "model.add(Embedding(len(tokenizer.index_word)+1,  32 ))\n",
        "model.add(LSTM(32  , dropout= 0,  recurrent_dropout=0))\n",
        "model.add(Dense(32, activation='relu'))\n",
        "model.add(Dense(1 ,  activation='sigmoid'))"
      ],
      "metadata": {
        "id": "AAlPRwbwb1qP"
      },
      "execution_count": 137,
      "outputs": []
    },
    {
      "cell_type": "code",
      "source": [
        "model.summary()"
      ],
      "metadata": {
        "colab": {
          "base_uri": "https://localhost:8080/"
        },
        "id": "tn8W74vecEa9",
        "outputId": "ad70b650-203b-40bf-96d5-9f34bd2d9ffd"
      },
      "execution_count": 138,
      "outputs": [
        {
          "output_type": "stream",
          "name": "stdout",
          "text": [
            "Model: \"sequential_4\"\n",
            "_________________________________________________________________\n",
            " Layer (type)                Output Shape              Param #   \n",
            "=================================================================\n",
            " embedding_4 (Embedding)     (None, None, 32)          254048    \n",
            "                                                                 \n",
            " lstm_4 (LSTM)               (None, 32)                8320      \n",
            "                                                                 \n",
            " dense_8 (Dense)             (None, 32)                1056      \n",
            "                                                                 \n",
            " dense_9 (Dense)             (None, 1)                 33        \n",
            "                                                                 \n",
            "=================================================================\n",
            "Total params: 263,457\n",
            "Trainable params: 263,457\n",
            "Non-trainable params: 0\n",
            "_________________________________________________________________\n"
          ]
        }
      ]
    },
    {
      "cell_type": "markdown",
      "source": [
        "Compile the Model"
      ],
      "metadata": {
        "id": "ZsPsSCA2cJYo"
      }
    },
    {
      "cell_type": "code",
      "source": [
        "import tensorflow as tf"
      ],
      "metadata": {
        "id": "-GYDukoZcFHM"
      },
      "execution_count": 139,
      "outputs": []
    },
    {
      "cell_type": "code",
      "source": [
        "model.compile(optimizer= tf.keras.optimizers.Adam(learning_rate=1e-3),\n",
        "              loss= tf.keras.losses.BinaryCrossentropy(),\n",
        "              metrics=[tf.keras.metrics.BinaryAccuracy(),\n",
        "                       tf.keras.metrics.FalseNegatives()])"
      ],
      "metadata": {
        "id": "0xX_e9GccMJE"
      },
      "execution_count": 140,
      "outputs": []
    },
    {
      "cell_type": "code",
      "source": [
        "history=  model.fit(x_train_seq_padded, y_train,\n",
        "                    batch_size=32, epochs=10,\n",
        "                    validation_data=(x_test_seq_padded, y_test))"
      ],
      "metadata": {
        "colab": {
          "base_uri": "https://localhost:8080/"
        },
        "id": "cklY_H8FcO-d",
        "outputId": "fc204366-7336-49bf-cc77-830055161a8f"
      },
      "execution_count": 141,
      "outputs": [
        {
          "output_type": "stream",
          "name": "stdout",
          "text": [
            "Epoch 1/10\n",
            "140/140 [==============================] - 8s 34ms/step - loss: 0.2494 - binary_accuracy: 0.9221 - false_negatives_2: 339.0000 - val_loss: 0.0410 - val_binary_accuracy: 0.9901 - val_false_negatives_2: 11.0000\n",
            "Epoch 2/10\n",
            "140/140 [==============================] - 4s 29ms/step - loss: 0.0348 - binary_accuracy: 0.9908 - false_negatives_2: 29.0000 - val_loss: 0.0253 - val_binary_accuracy: 0.9928 - val_false_negatives_2: 8.0000\n",
            "Epoch 3/10\n",
            "140/140 [==============================] - 4s 29ms/step - loss: 0.0121 - binary_accuracy: 0.9966 - false_negatives_2: 11.0000 - val_loss: 0.0253 - val_binary_accuracy: 0.9928 - val_false_negatives_2: 7.0000\n",
            "Epoch 4/10\n",
            "140/140 [==============================] - 4s 29ms/step - loss: 0.0039 - binary_accuracy: 0.9991 - false_negatives_2: 4.0000 - val_loss: 0.0206 - val_binary_accuracy: 0.9955 - val_false_negatives_2: 4.0000\n",
            "Epoch 5/10\n",
            "140/140 [==============================] - 4s 29ms/step - loss: 0.0021 - binary_accuracy: 0.9993 - false_negatives_2: 2.0000 - val_loss: 0.0252 - val_binary_accuracy: 0.9946 - val_false_negatives_2: 5.0000\n",
            "Epoch 6/10\n",
            "140/140 [==============================] - 4s 29ms/step - loss: 5.1428e-04 - binary_accuracy: 1.0000 - false_negatives_2: 0.0000e+00 - val_loss: 0.0296 - val_binary_accuracy: 0.9937 - val_false_negatives_2: 6.0000\n",
            "Epoch 7/10\n",
            "140/140 [==============================] - 4s 29ms/step - loss: 2.0432e-04 - binary_accuracy: 1.0000 - false_negatives_2: 0.0000e+00 - val_loss: 0.0323 - val_binary_accuracy: 0.9937 - val_false_negatives_2: 6.0000\n",
            "Epoch 8/10\n",
            "140/140 [==============================] - 4s 29ms/step - loss: 1.2378e-04 - binary_accuracy: 1.0000 - false_negatives_2: 0.0000e+00 - val_loss: 0.0356 - val_binary_accuracy: 0.9937 - val_false_negatives_2: 6.0000\n",
            "Epoch 9/10\n",
            "140/140 [==============================] - 4s 29ms/step - loss: 9.4256e-05 - binary_accuracy: 1.0000 - false_negatives_2: 0.0000e+00 - val_loss: 0.0324 - val_binary_accuracy: 0.9955 - val_false_negatives_2: 4.0000\n",
            "Epoch 10/10\n",
            "140/140 [==============================] - 4s 29ms/step - loss: 9.8743e-05 - binary_accuracy: 1.0000 - false_negatives_2: 0.0000e+00 - val_loss: 0.0342 - val_binary_accuracy: 0.9946 - val_false_negatives_2: 5.0000\n"
          ]
        }
      ]
    },
    {
      "cell_type": "markdown",
      "source": [
        "If we see values of accuracy it beats the tfidf model\n",
        "so it is the best model but highly complex"
      ],
      "metadata": {
        "id": "5_zQp-Yie0xQ"
      }
    },
    {
      "cell_type": "markdown",
      "source": [
        "model selection depends on problem adn cost of differnt types of error"
      ],
      "metadata": {
        "id": "xHK5s7hNfqSZ"
      }
    },
    {
      "cell_type": "code",
      "source": [],
      "metadata": {
        "id": "cuW5HaJbf42g"
      },
      "execution_count": null,
      "outputs": []
    }
  ]
}