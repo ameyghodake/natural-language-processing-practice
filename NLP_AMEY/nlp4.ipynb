{
  "nbformat": 4,
  "nbformat_minor": 0,
  "metadata": {
    "colab": {
      "provenance": [],
      "collapsed_sections": []
    },
    "kernelspec": {
      "name": "python3",
      "display_name": "Python 3"
    },
    "language_info": {
      "name": "python"
    }
  },
  "cells": [
    {
      "cell_type": "code",
      "execution_count": null,
      "metadata": {
        "colab": {
          "base_uri": "https://localhost:8080/"
        },
        "id": "CcjjzjzwM_S2",
        "outputId": "5d1c5726-e464-4601-bb46-51ae1aa10c48"
      },
      "outputs": [
        {
          "output_type": "stream",
          "name": "stdout",
          "text": [
            "Drive already mounted at /content/drive; to attempt to forcibly remount, call drive.mount(\"/content/drive\", force_remount=True).\n"
          ]
        }
      ],
      "source": [
        "from google.colab import drive\n",
        "drive.mount('/content/drive')"
      ]
    },
    {
      "cell_type": "code",
      "source": [
        "import numpy as np\n",
        "import pandas as pd\n",
        "from sklearn.model_selection import train_test_split\n",
        "msg= pd.read_csv('/content/spam.csv', encoding='latin-1')\n",
        "\n",
        "msg= msg.drop(labels =['Unnamed: 2','Unnamed: 3','Unnamed: 4'], axis=1)\n",
        "msg.columns= ['label', 'text']\n",
        "labels= np.where(msg['label']=='spam',1,0)\n",
        "msg.head() \n",
        "x_train,x_test, y_train, y_test= train_test_split(msg['text'], labels, test_size=0.2)"
      ],
      "metadata": {
        "id": "swfIV8Z5NnRR"
      },
      "execution_count": null,
      "outputs": []
    },
    {
      "cell_type": "code",
      "source": [
        "from keras.preprocessing.text import Tokenizer\n",
        "from keras.preprocessing.sequence import pad_sequences"
      ],
      "metadata": {
        "id": "fjQ0jnfQOyf-"
      },
      "execution_count": null,
      "outputs": []
    },
    {
      "cell_type": "markdown",
      "source": [
        "Initialize and Fit"
      ],
      "metadata": {
        "id": "93iw75y_RcY-"
      }
    },
    {
      "cell_type": "code",
      "source": [
        "tokenizer= Tokenizer()\n",
        "tokenizer.fit_on_texts(x_train)"
      ],
      "metadata": {
        "id": "R8c1G6ybO26_"
      },
      "execution_count": null,
      "outputs": []
    },
    {
      "cell_type": "code",
      "source": [
        "x_train_seq= tokenizer.texts_to_sequences(x_train)\n",
        "x_test_seq= tokenizer.texts_to_sequences(x_test)"
      ],
      "metadata": {
        "id": "JdeeC78sRYBS"
      },
      "execution_count": null,
      "outputs": []
    },
    {
      "cell_type": "code",
      "source": [
        "x_test_seq[0]"
      ],
      "metadata": {
        "colab": {
          "base_uri": "https://localhost:8080/"
        },
        "id": "9NbPKH9aR7ZP",
        "outputId": "fef75359-1c2c-40ac-8a64-fc318534e96d"
      },
      "execution_count": null,
      "outputs": [
        {
          "output_type": "execute_result",
          "data": {
            "text/plain": [
              "[294, 702, 1566, 89, 21, 55]"
            ]
          },
          "metadata": {},
          "execution_count": 8
        }
      ]
    },
    {
      "cell_type": "code",
      "source": [
        "x_train_seq_padded= pad_sequences(x_train_seq, 50)\n",
        "x_test_seq_padded= pad_sequences(x_test_seq, 50)"
      ],
      "metadata": {
        "id": "nedqK0vESAUR"
      },
      "execution_count": null,
      "outputs": []
    },
    {
      "cell_type": "code",
      "source": [
        "x_train_seq_padded[0]"
      ],
      "metadata": {
        "colab": {
          "base_uri": "https://localhost:8080/"
        },
        "id": "eza6ppifSR0L",
        "outputId": "bb6c5782-8f20-43bb-e384-45cca5e18251"
      },
      "execution_count": null,
      "outputs": [
        {
          "output_type": "execute_result",
          "data": {
            "text/plain": [
              "array([   0,    0,    0,    0,    0,    0,    0,    0,    0,    0,    0,\n",
              "          0,    0,    0,    0,    0,    0,    0,    0,    0,    0,    0,\n",
              "          0,    0,    0,    0,    0,    0,    0,    0,    0,    0,    0,\n",
              "          0,    0,    0,    0,    0,    0,    0,    0,    0,    0,    0,\n",
              "          0,   16,   10,   45, 1258,  272], dtype=int32)"
            ]
          },
          "metadata": {},
          "execution_count": 11
        }
      ]
    },
    {
      "cell_type": "markdown",
      "source": [
        "Build the Model RNN"
      ],
      "metadata": {
        "id": "uwnq1vtlSpJS"
      }
    },
    {
      "cell_type": "code",
      "source": [
        "import keras.backend as K\n",
        "from keras.layers import Dense, Embedding, LSTM\n",
        "from keras.models import Sequential"
      ],
      "metadata": {
        "id": "LXt58aF-StfV"
      },
      "execution_count": null,
      "outputs": []
    },
    {
      "cell_type": "markdown",
      "source": [
        "Construct model"
      ],
      "metadata": {
        "id": "YAItz3U3TGEq"
      }
    },
    {
      "cell_type": "code",
      "source": [
        "model= Sequential()"
      ],
      "metadata": {
        "id": "79Q_JIVvS-tT"
      },
      "execution_count": null,
      "outputs": []
    },
    {
      "cell_type": "markdown",
      "source": [
        "1st Embedding layer"
      ],
      "metadata": {
        "id": "jvaCCu2yTfGo"
      }
    },
    {
      "cell_type": "code",
      "source": [
        "model.add(Embedding(len(tokenizer.index_word)+1,  32 ))"
      ],
      "metadata": {
        "id": "zyO4Qal0TMiw"
      },
      "execution_count": null,
      "outputs": []
    },
    {
      "cell_type": "markdown",
      "source": [
        "2nd LSTM [regularisation using dropout]"
      ],
      "metadata": {
        "id": "bdadcZY0TiKp"
      }
    },
    {
      "cell_type": "code",
      "source": [
        "model.add(LSTM(32  , dropout= 0,  recurrent_dropout=0))"
      ],
      "metadata": {
        "id": "93LtrefZThkq"
      },
      "execution_count": null,
      "outputs": []
    },
    {
      "cell_type": "markdown",
      "source": [
        "3rd Dense with relu function"
      ],
      "metadata": {
        "id": "Z360nJGaUFak"
      }
    },
    {
      "cell_type": "code",
      "source": [
        "model.add(Dense(32, activation='relu'))"
      ],
      "metadata": {
        "id": "NoS8e9kiUEsI"
      },
      "execution_count": null,
      "outputs": []
    },
    {
      "cell_type": "markdown",
      "source": [
        "4th Dense with Signoid "
      ],
      "metadata": {
        "id": "y1Fuy52wUaht"
      }
    },
    {
      "cell_type": "code",
      "source": [
        "model.add(Dense(1 ,  activation='sigmoid'))"
      ],
      "metadata": {
        "id": "5wbfphbwURaO"
      },
      "execution_count": null,
      "outputs": []
    },
    {
      "cell_type": "code",
      "source": [
        "model.summary()"
      ],
      "metadata": {
        "colab": {
          "base_uri": "https://localhost:8080/"
        },
        "id": "CSMVWQ4sUnS8",
        "outputId": "258029f0-26a6-4ef8-e614-7e8ed7fb6e0f"
      },
      "execution_count": null,
      "outputs": [
        {
          "output_type": "stream",
          "name": "stdout",
          "text": [
            "Model: \"sequential\"\n",
            "_________________________________________________________________\n",
            " Layer (type)                Output Shape              Param #   \n",
            "=================================================================\n",
            " embedding (Embedding)       (None, None, 32)          251680    \n",
            "                                                                 \n",
            " lstm (LSTM)                 (None, 32)                8320      \n",
            "                                                                 \n",
            " dense (Dense)               (None, 32)                1056      \n",
            "                                                                 \n",
            " dense_1 (Dense)             (None, 1)                 33        \n",
            "                                                                 \n",
            "=================================================================\n",
            "Total params: 261,089\n",
            "Trainable params: 261,089\n",
            "Non-trainable params: 0\n",
            "_________________________________________________________________\n"
          ]
        }
      ]
    },
    {
      "cell_type": "markdown",
      "source": [
        "Compile the Model"
      ],
      "metadata": {
        "id": "rS-Eu-S4U4jn"
      }
    },
    {
      "cell_type": "code",
      "source": [
        "import tensorflow as tf"
      ],
      "metadata": {
        "id": "g3B6qPRFWJc3"
      },
      "execution_count": null,
      "outputs": []
    },
    {
      "cell_type": "code",
      "source": [
        "model.compile(optimizer= tf.keras.optimizers.Adam(learning_rate=1e-3),\n",
        "              loss= tf.keras.losses.BinaryCrossentropy(),\n",
        "              metrics=[tf.keras.metrics.BinaryAccuracy(),\n",
        "                       tf.keras.metrics.FalseNegatives()])"
      ],
      "metadata": {
        "id": "p5ho5If4UqA0"
      },
      "execution_count": null,
      "outputs": []
    },
    {
      "cell_type": "markdown",
      "source": [
        "Fit the Model"
      ],
      "metadata": {
        "id": "9QEcU3f6WW-5"
      }
    },
    {
      "cell_type": "code",
      "source": [
        "history=  model.fit(x_train_seq_padded, y_train,\n",
        "                    batch_size=32, epochs=10,\n",
        "                    validation_data=(x_test_seq_padded, y_test))"
      ],
      "metadata": {
        "colab": {
          "base_uri": "https://localhost:8080/"
        },
        "id": "qO0CxrX0Va_d",
        "outputId": "f629216c-e2a4-43b5-ad32-2895d0063100"
      },
      "execution_count": null,
      "outputs": [
        {
          "output_type": "stream",
          "name": "stdout",
          "text": [
            "Epoch 1/10\n",
            "140/140 [==============================] - 8s 35ms/step - loss: 0.2611 - binary_accuracy: 0.9181 - false_negatives: 342.0000 - val_loss: 0.0736 - val_binary_accuracy: 0.9821 - val_false_negatives: 18.0000\n",
            "Epoch 2/10\n",
            "140/140 [==============================] - 4s 30ms/step - loss: 0.0301 - binary_accuracy: 0.9926 - false_negatives: 24.0000 - val_loss: 0.0685 - val_binary_accuracy: 0.9857 - val_false_negatives: 16.0000\n",
            "Epoch 3/10\n",
            "140/140 [==============================] - 4s 29ms/step - loss: 0.0111 - binary_accuracy: 0.9973 - false_negatives: 11.0000 - val_loss: 0.0746 - val_binary_accuracy: 0.9839 - val_false_negatives: 17.0000\n",
            "Epoch 4/10\n",
            "140/140 [==============================] - 4s 30ms/step - loss: 0.0038 - binary_accuracy: 0.9996 - false_negatives: 2.0000 - val_loss: 0.0848 - val_binary_accuracy: 0.9848 - val_false_negatives: 16.0000\n",
            "Epoch 5/10\n",
            "140/140 [==============================] - 4s 30ms/step - loss: 0.0019 - binary_accuracy: 0.9998 - false_negatives: 1.0000 - val_loss: 0.0910 - val_binary_accuracy: 0.9848 - val_false_negatives: 16.0000\n",
            "Epoch 6/10\n",
            "140/140 [==============================] - 4s 30ms/step - loss: 0.0012 - binary_accuracy: 0.9998 - false_negatives: 1.0000 - val_loss: 0.0668 - val_binary_accuracy: 0.9883 - val_false_negatives: 11.0000\n",
            "Epoch 7/10\n",
            "140/140 [==============================] - 4s 30ms/step - loss: 3.2224e-04 - binary_accuracy: 1.0000 - false_negatives: 0.0000e+00 - val_loss: 0.0881 - val_binary_accuracy: 0.9857 - val_false_negatives: 15.0000\n",
            "Epoch 8/10\n",
            "140/140 [==============================] - 4s 30ms/step - loss: 1.5766e-04 - binary_accuracy: 1.0000 - false_negatives: 0.0000e+00 - val_loss: 0.0784 - val_binary_accuracy: 0.9874 - val_false_negatives: 12.0000\n",
            "Epoch 9/10\n",
            "140/140 [==============================] - 5s 39ms/step - loss: 1.0133e-04 - binary_accuracy: 1.0000 - false_negatives: 0.0000e+00 - val_loss: 0.0894 - val_binary_accuracy: 0.9865 - val_false_negatives: 14.0000\n",
            "Epoch 10/10\n",
            "140/140 [==============================] - 4s 30ms/step - loss: 6.5865e-05 - binary_accuracy: 1.0000 - false_negatives: 0.0000e+00 - val_loss: 0.0933 - val_binary_accuracy: 0.9865 - val_false_negatives: 14.0000\n"
          ]
        }
      ]
    },
    {
      "cell_type": "markdown",
      "source": [
        "Visualize"
      ],
      "metadata": {
        "id": "yN93cIa9XNz3"
      }
    },
    {
      "cell_type": "code",
      "source": [
        "import matplotlib.pyplot as plt\n",
        "for i in ['binary_accuracy', 'false_negatives']:\n",
        "  acc= history.history[i]\n",
        "  val_acc= history.history['val_{}'.format(i)]\n",
        "  epochs= range(1, len(acc)+1)"
      ],
      "metadata": {
        "id": "nDUzyTWUWwRb"
      },
      "execution_count": null,
      "outputs": []
    },
    {
      "cell_type": "code",
      "source": [
        "plt.figure()\n",
        "plt.plot(epochs, acc, label= 'Training Accuuracy')\n",
        "plt.plot(epochs, val_acc, label= 'Testing Accuracy')\n",
        "plt.legend()\n",
        "plt.show()"
      ],
      "metadata": {
        "colab": {
          "base_uri": "https://localhost:8080/",
          "height": 265
        },
        "id": "N18Oe6DgYE1t",
        "outputId": "91a7a3fd-c3dc-45f8-8a6a-88837aee017c"
      },
      "execution_count": null,
      "outputs": [
        {
          "output_type": "display_data",
          "data": {
            "text/plain": [
              "<Figure size 432x288 with 1 Axes>"
            ],
            "image/png": "[encoded data removed]"
          },
          "metadata": {
            "needs_background": "light"
          }
        }
      ]
    },
    {
      "cell_type": "code",
      "source": [],
      "metadata": {
        "id": "4vpsmCFhYYwl"
      },
      "execution_count": null,
      "outputs": []
    }
  ]
}