{
 "cells": [
  {
   "cell_type": "markdown",
   "id": "0810a111",
   "metadata": {},
   "source": [
    "# doc2vec"
   ]
  },
  {
   "cell_type": "code",
   "execution_count": 4,
   "id": "c6286570",
   "metadata": {},
   "outputs": [
    {
     "data": {
      "text/html": [
       "<div>\n",
       "<style scoped>\n",
       "    .dataframe tbody tr th:only-of-type {\n",
       "        vertical-align: middle;\n",
       "    }\n",
       "\n",
       "    .dataframe tbody tr th {\n",
       "        vertical-align: top;\n",
       "    }\n",
       "\n",
       "    .dataframe thead th {\n",
       "        text-align: right;\n",
       "    }\n",
       "</style>\n",
       "<table border=\"1\" class=\"dataframe\">\n",
       "  <thead>\n",
       "    <tr style=\"text-align: right;\">\n",
       "      <th></th>\n",
       "      <th>label</th>\n",
       "      <th>text</th>\n",
       "    </tr>\n",
       "  </thead>\n",
       "  <tbody>\n",
       "    <tr>\n",
       "      <th>0</th>\n",
       "      <td>ham</td>\n",
       "      <td>Go until jurong point, crazy.. Available only ...</td>\n",
       "    </tr>\n",
       "    <tr>\n",
       "      <th>1</th>\n",
       "      <td>ham</td>\n",
       "      <td>Ok lar... Joking wif u oni...</td>\n",
       "    </tr>\n",
       "    <tr>\n",
       "      <th>2</th>\n",
       "      <td>spam</td>\n",
       "      <td>Free entry in 2 a wkly comp to win FA Cup fina...</td>\n",
       "    </tr>\n",
       "    <tr>\n",
       "      <th>3</th>\n",
       "      <td>ham</td>\n",
       "      <td>U dun say so early hor... U c already then say...</td>\n",
       "    </tr>\n",
       "    <tr>\n",
       "      <th>4</th>\n",
       "      <td>ham</td>\n",
       "      <td>Nah I don't think he goes to usf, he lives aro...</td>\n",
       "    </tr>\n",
       "  </tbody>\n",
       "</table>\n",
       "</div>"
      ],
      "text/plain": [
       "  label                                               text\n",
       "0   ham  Go until jurong point, crazy.. Available only ...\n",
       "1   ham                      Ok lar... Joking wif u oni...\n",
       "2  spam  Free entry in 2 a wkly comp to win FA Cup fina...\n",
       "3   ham  U dun say so early hor... U c already then say...\n",
       "4   ham  Nah I don't think he goes to usf, he lives aro..."
      ]
     },
     "execution_count": 4,
     "metadata": {},
     "output_type": "execute_result"
    }
   ],
   "source": [
    "import gensim\n",
    "import pandas as pd\n",
    "from sklearn.model_selection import train_test_split\n",
    "\n",
    "msg= msg= pd.read_csv('C:/Users/Amey/Documents/spam.csv',encoding='latin-1')\n",
    "msg = msg.drop(labels = [\"Unnamed: 2\", \"Unnamed: 3\", \"Unnamed: 4\"], axis = 1)\n",
    "msg.columns = [\"label\", \"text\"]\n",
    "msg.head()"
   ]
  },
  {
   "cell_type": "code",
   "execution_count": 5,
   "id": "967302f2",
   "metadata": {
    "scrolled": true
   },
   "outputs": [
    {
     "data": {
      "text/html": [
       "<div>\n",
       "<style scoped>\n",
       "    .dataframe tbody tr th:only-of-type {\n",
       "        vertical-align: middle;\n",
       "    }\n",
       "\n",
       "    .dataframe tbody tr th {\n",
       "        vertical-align: top;\n",
       "    }\n",
       "\n",
       "    .dataframe thead th {\n",
       "        text-align: right;\n",
       "    }\n",
       "</style>\n",
       "<table border=\"1\" class=\"dataframe\">\n",
       "  <thead>\n",
       "    <tr style=\"text-align: right;\">\n",
       "      <th></th>\n",
       "      <th>label</th>\n",
       "      <th>text</th>\n",
       "      <th>text_clean</th>\n",
       "    </tr>\n",
       "  </thead>\n",
       "  <tbody>\n",
       "    <tr>\n",
       "      <th>0</th>\n",
       "      <td>ham</td>\n",
       "      <td>Go until jurong point, crazy.. Available only ...</td>\n",
       "      <td>[go, until, jurong, point, crazy, available, o...</td>\n",
       "    </tr>\n",
       "    <tr>\n",
       "      <th>1</th>\n",
       "      <td>ham</td>\n",
       "      <td>Ok lar... Joking wif u oni...</td>\n",
       "      <td>[ok, lar, joking, wif, oni]</td>\n",
       "    </tr>\n",
       "    <tr>\n",
       "      <th>2</th>\n",
       "      <td>spam</td>\n",
       "      <td>Free entry in 2 a wkly comp to win FA Cup fina...</td>\n",
       "      <td>[free, entry, in, wkly, comp, to, win, fa, cup...</td>\n",
       "    </tr>\n",
       "    <tr>\n",
       "      <th>3</th>\n",
       "      <td>ham</td>\n",
       "      <td>U dun say so early hor... U c already then say...</td>\n",
       "      <td>[dun, say, so, early, hor, already, then, say]</td>\n",
       "    </tr>\n",
       "    <tr>\n",
       "      <th>4</th>\n",
       "      <td>ham</td>\n",
       "      <td>Nah I don't think he goes to usf, he lives aro...</td>\n",
       "      <td>[nah, don, think, he, goes, to, usf, he, lives...</td>\n",
       "    </tr>\n",
       "  </tbody>\n",
       "</table>\n",
       "</div>"
      ],
      "text/plain": [
       "  label                                               text  \\\n",
       "0   ham  Go until jurong point, crazy.. Available only ...   \n",
       "1   ham                      Ok lar... Joking wif u oni...   \n",
       "2  spam  Free entry in 2 a wkly comp to win FA Cup fina...   \n",
       "3   ham  U dun say so early hor... U c already then say...   \n",
       "4   ham  Nah I don't think he goes to usf, he lives aro...   \n",
       "\n",
       "                                          text_clean  \n",
       "0  [go, until, jurong, point, crazy, available, o...  \n",
       "1                        [ok, lar, joking, wif, oni]  \n",
       "2  [free, entry, in, wkly, comp, to, win, fa, cup...  \n",
       "3     [dun, say, so, early, hor, already, then, say]  \n",
       "4  [nah, don, think, he, goes, to, usf, he, lives...  "
      ]
     },
     "execution_count": 5,
     "metadata": {},
     "output_type": "execute_result"
    }
   ],
   "source": [
    "msg['text_clean']= msg['text'].apply(lambda x: gensim.utils.simple_preprocess(x))\n",
    "msg.head()"
   ]
  },
  {
   "cell_type": "code",
   "execution_count": 6,
   "id": "6ef4508e",
   "metadata": {},
   "outputs": [],
   "source": [
    "x_train, x_test, y_train, y_test = train_test_split( msg['text_clean'], \n",
    "                                                    msg['label'], \n",
    "                                                   test_size= 0.2)"
   ]
  },
  {
   "cell_type": "markdown",
   "id": "2e14bcc4",
   "metadata": {},
   "source": [
    "Creating tagged documents"
   ]
  },
  {
   "cell_type": "code",
   "execution_count": 7,
   "id": "3e3ae944",
   "metadata": {},
   "outputs": [],
   "source": [
    "tagged_doc= [gensim.models.doc2vec.TaggedDocument(v,[i]) for i, v in enumerate(x_train)]"
   ]
  },
  {
   "cell_type": "code",
   "execution_count": 8,
   "id": "e505babf",
   "metadata": {},
   "outputs": [
    {
     "data": {
      "text/plain": [
       "TaggedDocument(words=['another', 'month', 'need', 'chocolate', 'weed', 'and', 'alcohol'], tags=[0])"
      ]
     },
     "execution_count": 8,
     "metadata": {},
     "output_type": "execute_result"
    }
   ],
   "source": [
    "tagged_doc[0]"
   ]
  },
  {
   "cell_type": "markdown",
   "id": "27ffcbe9",
   "metadata": {},
   "source": [
    "Train the Model"
   ]
  },
  {
   "cell_type": "code",
   "execution_count": 11,
   "id": "a3db065b",
   "metadata": {},
   "outputs": [],
   "source": [
    "d2v_model = gensim.models.Doc2Vec( tagged_doc,\n",
    "                                  vector_size=100,\n",
    "                                  window= 5,\n",
    "                                  min_count=2)"
   ]
  },
  {
   "cell_type": "code",
   "execution_count": 12,
   "id": "34260f13",
   "metadata": {},
   "outputs": [
    {
     "data": {
      "text/plain": [
       "<gensim.models.doc2vec.Doc2Vec at 0x297c3bfb430>"
      ]
     },
     "execution_count": 12,
     "metadata": {},
     "output_type": "execute_result"
    }
   ],
   "source": [
    "d2v_model"
   ]
  },
  {
   "cell_type": "code",
   "execution_count": 13,
   "id": "d3e88627",
   "metadata": {},
   "outputs": [
    {
     "data": {
      "text/plain": [
       "array([-1.56171275e-02,  1.03082871e-02,  1.91073574e-03, -5.49449166e-03,\n",
       "       -2.34075682e-03, -2.62908209e-02,  8.22903030e-03,  3.41091603e-02,\n",
       "       -1.42106460e-02, -1.84274223e-02, -1.47536043e-02, -2.42335293e-02,\n",
       "        6.28212001e-03,  2.56975880e-03,  3.73582449e-03, -1.97620504e-02,\n",
       "        3.26821441e-03, -1.02599198e-02, -8.48728046e-03, -3.06016579e-02,\n",
       "        9.09284316e-03,  9.03613679e-03,  1.13715213e-02, -3.74243408e-03,\n",
       "        4.62592626e-03,  7.67330267e-03, -7.80960126e-03, -1.31010953e-02,\n",
       "       -1.32785402e-02, -5.52945212e-03,  1.72109790e-02,  6.53902709e-04,\n",
       "        1.04647567e-02, -6.97220676e-03, -6.86570536e-03,  2.19347160e-02,\n",
       "        4.06859163e-03, -3.80184664e-03, -1.30435107e-02, -1.68390572e-02,\n",
       "       -9.96659975e-04, -1.54619478e-02, -1.52371614e-03, -5.99197252e-03,\n",
       "        1.48195429e-02, -5.57188597e-03,  4.73013031e-04, -5.30337682e-03,\n",
       "        1.40218856e-02,  8.47539213e-03,  5.69634186e-03, -1.57639850e-02,\n",
       "        1.29530570e-02, -4.37903291e-05, -6.13367325e-03,  1.19917076e-02,\n",
       "       -3.71233700e-03, -7.22717354e-03, -2.36144513e-02,  9.33683850e-03,\n",
       "        4.56240680e-03,  5.40462602e-03, -1.59930694e-03, -3.91748128e-03,\n",
       "       -2.04742793e-02,  1.56701207e-02,  1.38540221e-02,  9.03255772e-03,\n",
       "       -2.46700589e-02,  3.03960331e-02, -9.19225533e-03,  5.98890474e-03,\n",
       "        1.98538061e-02, -2.75580259e-03,  1.71423443e-02,  1.41953472e-02,\n",
       "       -4.88396175e-03, -5.54659637e-03, -3.93551821e-03,  2.10541859e-02,\n",
       "       -8.84301122e-03,  4.41134116e-03, -1.68548841e-02,  2.79969741e-02,\n",
       "       -1.68936960e-02, -6.29528472e-03, -4.85795038e-03,  1.37982937e-02,\n",
       "        1.82797424e-02,  5.92669193e-03,  1.52999815e-02,  1.36516644e-02,\n",
       "       -4.01282124e-03,  1.01885712e-02,  2.25358699e-02,  1.86422430e-02,\n",
       "        5.91020286e-03, -2.16891505e-02,  4.71573439e-04,  2.73292349e-03],\n",
       "      dtype=float32)"
      ]
     },
     "execution_count": 13,
     "metadata": {},
     "output_type": "execute_result"
    }
   ],
   "source": [
    "d2v_model.infer_vector(['i','am','leaning','nlp'])"
   ]
  },
  {
   "cell_type": "code",
   "execution_count": 18,
   "id": "288a9bb0",
   "metadata": {},
   "outputs": [
    {
     "data": {
      "text/plain": [
       "[array([-0.01618466,  0.01767706,  0.00162528, -0.00797264, -0.00838771,\n",
       "        -0.03753772,  0.01953689,  0.05901544, -0.02641089, -0.02101116,\n",
       "        -0.03060621, -0.03490821, -0.0076116 ,  0.01507461,  0.00540063,\n",
       "        -0.04703877, -0.00382381, -0.01651828, -0.02263095, -0.04723682,\n",
       "         0.01663359,  0.01143117,  0.03279151, -0.01151349,  0.00508257,\n",
       "         0.00660108, -0.00612804, -0.03732685, -0.02795585, -0.01255097,\n",
       "         0.02540399,  0.00096763,  0.02435666, -0.03124862, -0.01212183,\n",
       "         0.04436582,  0.01706959, -0.004525  , -0.02175303, -0.0258075 ,\n",
       "        -0.00252892, -0.03157989, -0.00638413, -0.00814883,  0.02092911,\n",
       "        -0.01717203, -0.01322367, -0.01460776,  0.02604571,  0.02111219,\n",
       "         0.00487588, -0.02940113,  0.01137615, -0.02069024, -0.00814692,\n",
       "         0.01878826,  0.00752609,  0.00701925, -0.03458299,  0.02337223,\n",
       "         0.00361182,  0.00245443, -0.00023367, -0.00460372, -0.03279892,\n",
       "         0.03626427,  0.00422584,  0.02096125, -0.05048333,  0.0323175 ,\n",
       "        -0.02387443,  0.02548805,  0.02985686, -0.01830034,  0.04056064,\n",
       "         0.00931689,  0.00073319, -0.00110294, -0.01957932,  0.02070202,\n",
       "        -0.01804284, -0.00820996, -0.0372298 ,  0.03362257, -0.0259508 ,\n",
       "        -0.00489796,  0.00525244,  0.01928718,  0.04336636,  0.01125977,\n",
       "         0.01937348,  0.02176126,  0.0014747 ,  0.01422818,  0.04157252,\n",
       "         0.03815736, -0.00076485, -0.03524618,  0.00642677,  0.00034977],\n",
       "       dtype=float32)]"
      ]
     },
     "execution_count": 18,
     "metadata": {},
     "output_type": "execute_result"
    }
   ],
   "source": [
    "vectors = [[d2v_model.infer_vector(word)] for word in x_test]\n",
    "vectors[0]"
   ]
  },
  {
   "cell_type": "code",
   "execution_count": null,
   "id": "75444032",
   "metadata": {},
   "outputs": [],
   "source": []
  }
 ],
 "metadata": {
  "kernelspec": {
   "display_name": "Python 3 (ipykernel)",
   "language": "python",
   "name": "python3"
  },
  "language_info": {
   "codemirror_mode": {
    "name": "ipython",
    "version": 3
   },
   "file_extension": ".py",
   "mimetype": "text/x-python",
   "name": "python",
   "nbconvert_exporter": "python",
   "pygments_lexer": "ipython3",
   "version": "3.9.7"
  }
 },
 "nbformat": 4,
 "nbformat_minor": 5
}
